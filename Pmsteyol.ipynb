{
 "cells": [
  {
   "cell_type": "markdown",
   "metadata": {},
   "source": [
    "# Recommender System based on Review Book in E-commerce Using word2vec Algorithm\n",
    "\n",
    "\n",
    "1. Yolanda R.M Manurung (12S17017)\n",
    "2. Stella Sitinjak      (12S17027)\n",
    "3. Ekis Naomi Lasma     (12S17059)\n",
    "\n",
    "\n",
    "### Dataset\n",
    "Data yang digunakan pada proyek ini berasal dari kaggle (https://www.kaggle.com/gapple/goodreads-book-reviews-20k)"
   ]
  },
  {
   "cell_type": "markdown",
   "metadata": {},
   "source": [
    "## 1. Load Data"
   ]
  },
  {
   "cell_type": "code",
   "execution_count": 1,
   "metadata": {},
   "outputs": [],
   "source": [
    "#ignore warning yang tidak perlu\n",
    "import warnings\n",
    "warnings.filterwarnings(\"ignore\")"
   ]
  },
  {
   "cell_type": "code",
   "execution_count": 2,
   "metadata": {},
   "outputs": [],
   "source": [
    "#import library yang akan digunakan\n",
    "import pandas as pd\n",
    "import re\n",
    "import gensim\n",
    "import string\n",
    "from gensim.models import Word2Vec\n",
    "import numpy as np\n",
    "from scipy import linalg\n",
    "from nltk.tokenize import word_tokenize\n",
    "from nltk.corpus import stopwords, wordnet"
   ]
  },
  {
   "cell_type": "code",
   "execution_count": 3,
   "metadata": {},
   "outputs": [
    {
     "name": "stdout",
     "output_type": "stream",
     "text": [
      "Jumlah data = 21559\n"
     ]
    },
    {
     "data": {
      "text/html": [
       "<div>\n",
       "<style scoped>\n",
       "    .dataframe tbody tr th:only-of-type {\n",
       "        vertical-align: middle;\n",
       "    }\n",
       "\n",
       "    .dataframe tbody tr th {\n",
       "        vertical-align: top;\n",
       "    }\n",
       "\n",
       "    .dataframe thead th {\n",
       "        text-align: right;\n",
       "    }\n",
       "</style>\n",
       "<table border=\"1\" class=\"dataframe\">\n",
       "  <thead>\n",
       "    <tr style=\"text-align: right;\">\n",
       "      <th></th>\n",
       "      <th>book_title</th>\n",
       "      <th>Book_series</th>\n",
       "      <th>book_series_url</th>\n",
       "      <th>book_image</th>\n",
       "      <th>book_image_url</th>\n",
       "      <th>book_rating</th>\n",
       "      <th>book_author</th>\n",
       "      <th>author_url</th>\n",
       "      <th>genre</th>\n",
       "      <th>reviewer_name</th>\n",
       "      <th>reviewer_url</th>\n",
       "      <th>reviewer_image</th>\n",
       "      <th>reviewer_image_url</th>\n",
       "      <th>review</th>\n",
       "      <th>ID</th>\n",
       "    </tr>\n",
       "  </thead>\n",
       "  <tbody>\n",
       "    <tr>\n",
       "      <th>0</th>\n",
       "      <td>A Court of Wings and Ruin</td>\n",
       "      <td>(A Court of Thorns and Roses #3)</td>\n",
       "      <td>https://www.goodreads.com/series/104014-a-cour...</td>\n",
       "      <td>https://images.gr-assets.com/books/1485528243l...</td>\n",
       "      <td>https://www.goodreads.com/book/photo/23766634-...</td>\n",
       "      <td>4.51</td>\n",
       "      <td>Sarah J. Maas</td>\n",
       "      <td>https://www.goodreads.com/author/show/3433047....</td>\n",
       "      <td>Fantasy, Romance, Young Adult, New Adult</td>\n",
       "      <td>emma</td>\n",
       "      <td>https://www.goodreads.com/user/show/32879029-emma</td>\n",
       "      <td>https://images.gr-assets.com/users/1520568130p...</td>\n",
       "      <td>https://www.goodreads.com/user/show/32879029-emma</td>\n",
       "      <td>202.\\r\\nThat’s the number of times that the wo...</td>\n",
       "      <td>1</td>\n",
       "    </tr>\n",
       "    <tr>\n",
       "      <th>1</th>\n",
       "      <td>A Court of Wings and Ruin</td>\n",
       "      <td>(A Court of Thorns and Roses #3)</td>\n",
       "      <td>https://www.goodreads.com/series/104014-a-cour...</td>\n",
       "      <td>https://images.gr-assets.com/books/1485528243l...</td>\n",
       "      <td>https://www.goodreads.com/book/photo/23766634-...</td>\n",
       "      <td>4.51</td>\n",
       "      <td>Sarah J. Maas</td>\n",
       "      <td>https://www.goodreads.com/author/show/3433047....</td>\n",
       "      <td>Fantasy, Romance, Young Adult, New Adult</td>\n",
       "      <td>Em (RunawayWithDreamthieves)</td>\n",
       "      <td>https://www.goodreads.com/user/show/42130592-e...</td>\n",
       "      <td>https://images.gr-assets.com/users/1538507799p...</td>\n",
       "      <td>https://www.goodreads.com/user/show/42130592-e...</td>\n",
       "      <td>I need a black silk robe and a balcony to wear...</td>\n",
       "      <td>2</td>\n",
       "    </tr>\n",
       "    <tr>\n",
       "      <th>2</th>\n",
       "      <td>A Court of Wings and Ruin</td>\n",
       "      <td>(A Court of Thorns and Roses #3)</td>\n",
       "      <td>https://www.goodreads.com/series/104014-a-cour...</td>\n",
       "      <td>https://images.gr-assets.com/books/1485528243l...</td>\n",
       "      <td>https://www.goodreads.com/book/photo/23766634-...</td>\n",
       "      <td>4.51</td>\n",
       "      <td>Sarah J. Maas</td>\n",
       "      <td>https://www.goodreads.com/author/show/3433047....</td>\n",
       "      <td>Fantasy, Romance, Young Adult, New Adult</td>\n",
       "      <td>Cait • A Page with a View</td>\n",
       "      <td>https://www.goodreads.com/user/show/47412532-c...</td>\n",
       "      <td>https://images.gr-assets.com/users/1523134490p...</td>\n",
       "      <td>https://www.goodreads.com/user/show/47412532-c...</td>\n",
       "      <td>THIS BOOK TOTALLY WRECKED ME. In the best poss...</td>\n",
       "      <td>3</td>\n",
       "    </tr>\n",
       "    <tr>\n",
       "      <th>3</th>\n",
       "      <td>A Court of Wings and Ruin</td>\n",
       "      <td>(A Court of Thorns and Roses #3)</td>\n",
       "      <td>https://www.goodreads.com/series/104014-a-cour...</td>\n",
       "      <td>https://images.gr-assets.com/books/1485528243l...</td>\n",
       "      <td>https://www.goodreads.com/book/photo/23766634-...</td>\n",
       "      <td>4.51</td>\n",
       "      <td>Sarah J. Maas</td>\n",
       "      <td>https://www.goodreads.com/author/show/3433047....</td>\n",
       "      <td>Fantasy, Romance, Young Adult, New Adult</td>\n",
       "      <td>Natalie Monroe</td>\n",
       "      <td>https://www.goodreads.com/user/show/6688207-na...</td>\n",
       "      <td>https://images.gr-assets.com/users/1339730817p...</td>\n",
       "      <td>https://www.goodreads.com/user/show/6688207-na...</td>\n",
       "      <td>3.75 stars\\r\\n\"Rhys stepped off the stairs and...</td>\n",
       "      <td>4</td>\n",
       "    </tr>\n",
       "    <tr>\n",
       "      <th>4</th>\n",
       "      <td>A Court of Wings and Ruin</td>\n",
       "      <td>(A Court of Thorns and Roses #3)</td>\n",
       "      <td>https://www.goodreads.com/series/104014-a-cour...</td>\n",
       "      <td>https://images.gr-assets.com/books/1485528243l...</td>\n",
       "      <td>https://www.goodreads.com/book/photo/23766634-...</td>\n",
       "      <td>4.51</td>\n",
       "      <td>Sarah J. Maas</td>\n",
       "      <td>https://www.goodreads.com/author/show/3433047....</td>\n",
       "      <td>Fantasy, Romance, Young Adult, New Adult</td>\n",
       "      <td>Emily May</td>\n",
       "      <td>https://www.goodreads.com/user/show/4622890-em...</td>\n",
       "      <td>https://images.gr-assets.com/users/1528390751p...</td>\n",
       "      <td>https://www.goodreads.com/user/show/4622890-em...</td>\n",
       "      <td>I wish so much that I could tell you I loved t...</td>\n",
       "      <td>5</td>\n",
       "    </tr>\n",
       "  </tbody>\n",
       "</table>\n",
       "</div>"
      ],
      "text/plain": [
       "                  book_title                       Book_series  \\\n",
       "0  A Court of Wings and Ruin  (A Court of Thorns and Roses #3)   \n",
       "1  A Court of Wings and Ruin  (A Court of Thorns and Roses #3)   \n",
       "2  A Court of Wings and Ruin  (A Court of Thorns and Roses #3)   \n",
       "3  A Court of Wings and Ruin  (A Court of Thorns and Roses #3)   \n",
       "4  A Court of Wings and Ruin  (A Court of Thorns and Roses #3)   \n",
       "\n",
       "                                     book_series_url  \\\n",
       "0  https://www.goodreads.com/series/104014-a-cour...   \n",
       "1  https://www.goodreads.com/series/104014-a-cour...   \n",
       "2  https://www.goodreads.com/series/104014-a-cour...   \n",
       "3  https://www.goodreads.com/series/104014-a-cour...   \n",
       "4  https://www.goodreads.com/series/104014-a-cour...   \n",
       "\n",
       "                                          book_image  \\\n",
       "0  https://images.gr-assets.com/books/1485528243l...   \n",
       "1  https://images.gr-assets.com/books/1485528243l...   \n",
       "2  https://images.gr-assets.com/books/1485528243l...   \n",
       "3  https://images.gr-assets.com/books/1485528243l...   \n",
       "4  https://images.gr-assets.com/books/1485528243l...   \n",
       "\n",
       "                                      book_image_url  book_rating  \\\n",
       "0  https://www.goodreads.com/book/photo/23766634-...         4.51   \n",
       "1  https://www.goodreads.com/book/photo/23766634-...         4.51   \n",
       "2  https://www.goodreads.com/book/photo/23766634-...         4.51   \n",
       "3  https://www.goodreads.com/book/photo/23766634-...         4.51   \n",
       "4  https://www.goodreads.com/book/photo/23766634-...         4.51   \n",
       "\n",
       "     book_author                                         author_url  \\\n",
       "0  Sarah J. Maas  https://www.goodreads.com/author/show/3433047....   \n",
       "1  Sarah J. Maas  https://www.goodreads.com/author/show/3433047....   \n",
       "2  Sarah J. Maas  https://www.goodreads.com/author/show/3433047....   \n",
       "3  Sarah J. Maas  https://www.goodreads.com/author/show/3433047....   \n",
       "4  Sarah J. Maas  https://www.goodreads.com/author/show/3433047....   \n",
       "\n",
       "                                      genre                 reviewer_name  \\\n",
       "0  Fantasy, Romance, Young Adult, New Adult                          emma   \n",
       "1  Fantasy, Romance, Young Adult, New Adult  Em (RunawayWithDreamthieves)   \n",
       "2  Fantasy, Romance, Young Adult, New Adult     Cait • A Page with a View   \n",
       "3  Fantasy, Romance, Young Adult, New Adult                Natalie Monroe   \n",
       "4  Fantasy, Romance, Young Adult, New Adult                     Emily May   \n",
       "\n",
       "                                        reviewer_url  \\\n",
       "0  https://www.goodreads.com/user/show/32879029-emma   \n",
       "1  https://www.goodreads.com/user/show/42130592-e...   \n",
       "2  https://www.goodreads.com/user/show/47412532-c...   \n",
       "3  https://www.goodreads.com/user/show/6688207-na...   \n",
       "4  https://www.goodreads.com/user/show/4622890-em...   \n",
       "\n",
       "                                      reviewer_image  \\\n",
       "0  https://images.gr-assets.com/users/1520568130p...   \n",
       "1  https://images.gr-assets.com/users/1538507799p...   \n",
       "2  https://images.gr-assets.com/users/1523134490p...   \n",
       "3  https://images.gr-assets.com/users/1339730817p...   \n",
       "4  https://images.gr-assets.com/users/1528390751p...   \n",
       "\n",
       "                                  reviewer_image_url  \\\n",
       "0  https://www.goodreads.com/user/show/32879029-emma   \n",
       "1  https://www.goodreads.com/user/show/42130592-e...   \n",
       "2  https://www.goodreads.com/user/show/47412532-c...   \n",
       "3  https://www.goodreads.com/user/show/6688207-na...   \n",
       "4  https://www.goodreads.com/user/show/4622890-em...   \n",
       "\n",
       "                                              review  ID  \n",
       "0  202.\\r\\nThat’s the number of times that the wo...   1  \n",
       "1  I need a black silk robe and a balcony to wear...   2  \n",
       "2  THIS BOOK TOTALLY WRECKED ME. In the best poss...   3  \n",
       "3  3.75 stars\\r\\n\"Rhys stepped off the stairs and...   4  \n",
       "4  I wish so much that I could tell you I loved t...   5  "
      ]
     },
     "execution_count": 3,
     "metadata": {},
     "output_type": "execute_result"
    }
   ],
   "source": [
    "#load dataset Goodreads buku dan menampilkan 5 data teratas\n",
    "data = pd.read_csv(\"./all_data.csv\")\n",
    "print ('Jumlah data =', len(data))\n",
    "data.head()"
   ]
  },
  {
   "cell_type": "markdown",
   "metadata": {},
   "source": [
    "## 2. Data Preparation"
   ]
  },
  {
   "cell_type": "markdown",
   "metadata": {},
   "source": [
    "Tahap awal sebelum preprocessing yaitu melakukan preparation untuk pengecekan data noise dan dirty. Tahap yang dilakukan adalah pengecekan null value dan duplicate value"
   ]
  },
  {
   "cell_type": "markdown",
   "metadata": {},
   "source": [
    "### Drop Null Value"
   ]
  },
  {
   "cell_type": "code",
   "execution_count": 4,
   "metadata": {},
   "outputs": [
    {
     "data": {
      "text/plain": [
       "book_title                0\n",
       "Book_series           12779\n",
       "book_series_url       12779\n",
       "book_image                2\n",
       "book_image_url            2\n",
       "book_rating               0\n",
       "book_author               0\n",
       "author_url                0\n",
       "genre                   121\n",
       "reviewer_name            25\n",
       "reviewer_url             25\n",
       "reviewer_image           25\n",
       "reviewer_image_url       25\n",
       "review                  742\n",
       "ID                        0\n",
       "dtype: int64"
      ]
     },
     "execution_count": 4,
     "metadata": {},
     "output_type": "execute_result"
    }
   ],
   "source": [
    "#pengecekan nilai null pada data\n",
    "data.isnull().sum()"
   ]
  },
  {
   "cell_type": "code",
   "execution_count": 5,
   "metadata": {},
   "outputs": [],
   "source": [
    "# penghapusan null value dengan menggunakan fillna\n",
    "# data yg memiliki null value akan diisi menggunakan value dari index ke-0\n",
    "data['Book_series'] = data['Book_series'].fillna(data['Book_series'].mode().iloc[0])\n",
    "data['book_series_url'] = data['book_series_url'].fillna(data['book_series_url'].mode().iloc[0])\n",
    "data['book_image'] = data['book_image'].fillna(data['book_image'].mode().iloc[0])\n",
    "data['book_image_url'] = data['book_image_url'].fillna(data['book_image_url'].mode().iloc[0])\n",
    "data['genre'] = data['genre'].fillna(data['genre'].mode().iloc[0])\n",
    "data['reviewer_name'] = data['reviewer_name'].fillna(data['reviewer_name'].mode().iloc[0])\n",
    "data['reviewer_url'] = data['reviewer_url'].fillna(data['reviewer_url'].mode().iloc[0])\n",
    "data['reviewer_image'] = data['reviewer_image'].fillna(data['reviewer_image'].mode().iloc[0])\n",
    "data['reviewer_image_url'] = data['reviewer_image_url'].fillna(data['reviewer_image_url'].mode().iloc[0])\n",
    "data['review'] = data['review'].fillna(data['review'].mode().iloc[0])"
   ]
  },
  {
   "cell_type": "code",
   "execution_count": 6,
   "metadata": {},
   "outputs": [
    {
     "data": {
      "text/plain": [
       "book_title            0\n",
       "Book_series           0\n",
       "book_series_url       0\n",
       "book_image            0\n",
       "book_image_url        0\n",
       "book_rating           0\n",
       "book_author           0\n",
       "author_url            0\n",
       "genre                 0\n",
       "reviewer_name         0\n",
       "reviewer_url          0\n",
       "reviewer_image        0\n",
       "reviewer_image_url    0\n",
       "review                0\n",
       "ID                    0\n",
       "dtype: int64"
      ]
     },
     "execution_count": 6,
     "metadata": {},
     "output_type": "execute_result"
    }
   ],
   "source": [
    "#pengecekan kembali data setelah drop null value\n",
    "data.isnull().sum()"
   ]
  },
  {
   "cell_type": "markdown",
   "metadata": {},
   "source": [
    "### Drop Duplicate Value"
   ]
  },
  {
   "cell_type": "code",
   "execution_count": 7,
   "metadata": {},
   "outputs": [
    {
     "data": {
      "text/plain": [
       "0"
      ]
     },
     "execution_count": 7,
     "metadata": {},
     "output_type": "execute_result"
    }
   ],
   "source": [
    "#pengecekan duplicate value \n",
    "data.duplicated().sum()"
   ]
  },
  {
   "cell_type": "code",
   "execution_count": 8,
   "metadata": {},
   "outputs": [
    {
     "data": {
      "text/html": [
       "<div>\n",
       "<style scoped>\n",
       "    .dataframe tbody tr th:only-of-type {\n",
       "        vertical-align: middle;\n",
       "    }\n",
       "\n",
       "    .dataframe tbody tr th {\n",
       "        vertical-align: top;\n",
       "    }\n",
       "\n",
       "    .dataframe thead th {\n",
       "        text-align: right;\n",
       "    }\n",
       "</style>\n",
       "<table border=\"1\" class=\"dataframe\">\n",
       "  <thead>\n",
       "    <tr style=\"text-align: right;\">\n",
       "      <th></th>\n",
       "      <th>book_title</th>\n",
       "      <th>Book_series</th>\n",
       "      <th>book_series_url</th>\n",
       "      <th>book_image</th>\n",
       "      <th>book_image_url</th>\n",
       "      <th>book_rating</th>\n",
       "      <th>book_author</th>\n",
       "      <th>author_url</th>\n",
       "      <th>genre</th>\n",
       "      <th>reviewer_name</th>\n",
       "      <th>reviewer_url</th>\n",
       "      <th>reviewer_image</th>\n",
       "      <th>reviewer_image_url</th>\n",
       "      <th>review</th>\n",
       "      <th>ID</th>\n",
       "    </tr>\n",
       "  </thead>\n",
       "  <tbody>\n",
       "    <tr>\n",
       "      <th>0</th>\n",
       "      <td>A Court of Wings and Ruin</td>\n",
       "      <td>(A Court of Thorns and Roses #3)</td>\n",
       "      <td>https://www.goodreads.com/series/104014-a-cour...</td>\n",
       "      <td>https://images.gr-assets.com/books/1485528243l...</td>\n",
       "      <td>https://www.goodreads.com/book/photo/23766634-...</td>\n",
       "      <td>4.51</td>\n",
       "      <td>Sarah J. Maas</td>\n",
       "      <td>https://www.goodreads.com/author/show/3433047....</td>\n",
       "      <td>Fantasy, Romance, Young Adult, New Adult</td>\n",
       "      <td>emma</td>\n",
       "      <td>https://www.goodreads.com/user/show/32879029-emma</td>\n",
       "      <td>https://images.gr-assets.com/users/1520568130p...</td>\n",
       "      <td>https://www.goodreads.com/user/show/32879029-emma</td>\n",
       "      <td>202.\\r\\nThat’s the number of times that the wo...</td>\n",
       "      <td>1</td>\n",
       "    </tr>\n",
       "    <tr>\n",
       "      <th>1</th>\n",
       "      <td>A Court of Wings and Ruin</td>\n",
       "      <td>(A Court of Thorns and Roses #3)</td>\n",
       "      <td>https://www.goodreads.com/series/104014-a-cour...</td>\n",
       "      <td>https://images.gr-assets.com/books/1485528243l...</td>\n",
       "      <td>https://www.goodreads.com/book/photo/23766634-...</td>\n",
       "      <td>4.51</td>\n",
       "      <td>Sarah J. Maas</td>\n",
       "      <td>https://www.goodreads.com/author/show/3433047....</td>\n",
       "      <td>Fantasy, Romance, Young Adult, New Adult</td>\n",
       "      <td>Em (RunawayWithDreamthieves)</td>\n",
       "      <td>https://www.goodreads.com/user/show/42130592-e...</td>\n",
       "      <td>https://images.gr-assets.com/users/1538507799p...</td>\n",
       "      <td>https://www.goodreads.com/user/show/42130592-e...</td>\n",
       "      <td>I need a black silk robe and a balcony to wear...</td>\n",
       "      <td>2</td>\n",
       "    </tr>\n",
       "    <tr>\n",
       "      <th>2</th>\n",
       "      <td>A Court of Wings and Ruin</td>\n",
       "      <td>(A Court of Thorns and Roses #3)</td>\n",
       "      <td>https://www.goodreads.com/series/104014-a-cour...</td>\n",
       "      <td>https://images.gr-assets.com/books/1485528243l...</td>\n",
       "      <td>https://www.goodreads.com/book/photo/23766634-...</td>\n",
       "      <td>4.51</td>\n",
       "      <td>Sarah J. Maas</td>\n",
       "      <td>https://www.goodreads.com/author/show/3433047....</td>\n",
       "      <td>Fantasy, Romance, Young Adult, New Adult</td>\n",
       "      <td>Cait • A Page with a View</td>\n",
       "      <td>https://www.goodreads.com/user/show/47412532-c...</td>\n",
       "      <td>https://images.gr-assets.com/users/1523134490p...</td>\n",
       "      <td>https://www.goodreads.com/user/show/47412532-c...</td>\n",
       "      <td>THIS BOOK TOTALLY WRECKED ME. In the best poss...</td>\n",
       "      <td>3</td>\n",
       "    </tr>\n",
       "    <tr>\n",
       "      <th>3</th>\n",
       "      <td>A Court of Wings and Ruin</td>\n",
       "      <td>(A Court of Thorns and Roses #3)</td>\n",
       "      <td>https://www.goodreads.com/series/104014-a-cour...</td>\n",
       "      <td>https://images.gr-assets.com/books/1485528243l...</td>\n",
       "      <td>https://www.goodreads.com/book/photo/23766634-...</td>\n",
       "      <td>4.51</td>\n",
       "      <td>Sarah J. Maas</td>\n",
       "      <td>https://www.goodreads.com/author/show/3433047....</td>\n",
       "      <td>Fantasy, Romance, Young Adult, New Adult</td>\n",
       "      <td>Natalie Monroe</td>\n",
       "      <td>https://www.goodreads.com/user/show/6688207-na...</td>\n",
       "      <td>https://images.gr-assets.com/users/1339730817p...</td>\n",
       "      <td>https://www.goodreads.com/user/show/6688207-na...</td>\n",
       "      <td>3.75 stars\\r\\n\"Rhys stepped off the stairs and...</td>\n",
       "      <td>4</td>\n",
       "    </tr>\n",
       "    <tr>\n",
       "      <th>4</th>\n",
       "      <td>A Court of Wings and Ruin</td>\n",
       "      <td>(A Court of Thorns and Roses #3)</td>\n",
       "      <td>https://www.goodreads.com/series/104014-a-cour...</td>\n",
       "      <td>https://images.gr-assets.com/books/1485528243l...</td>\n",
       "      <td>https://www.goodreads.com/book/photo/23766634-...</td>\n",
       "      <td>4.51</td>\n",
       "      <td>Sarah J. Maas</td>\n",
       "      <td>https://www.goodreads.com/author/show/3433047....</td>\n",
       "      <td>Fantasy, Romance, Young Adult, New Adult</td>\n",
       "      <td>Emily May</td>\n",
       "      <td>https://www.goodreads.com/user/show/4622890-em...</td>\n",
       "      <td>https://images.gr-assets.com/users/1528390751p...</td>\n",
       "      <td>https://www.goodreads.com/user/show/4622890-em...</td>\n",
       "      <td>I wish so much that I could tell you I loved t...</td>\n",
       "      <td>5</td>\n",
       "    </tr>\n",
       "  </tbody>\n",
       "</table>\n",
       "</div>"
      ],
      "text/plain": [
       "                  book_title                       Book_series  \\\n",
       "0  A Court of Wings and Ruin  (A Court of Thorns and Roses #3)   \n",
       "1  A Court of Wings and Ruin  (A Court of Thorns and Roses #3)   \n",
       "2  A Court of Wings and Ruin  (A Court of Thorns and Roses #3)   \n",
       "3  A Court of Wings and Ruin  (A Court of Thorns and Roses #3)   \n",
       "4  A Court of Wings and Ruin  (A Court of Thorns and Roses #3)   \n",
       "\n",
       "                                     book_series_url  \\\n",
       "0  https://www.goodreads.com/series/104014-a-cour...   \n",
       "1  https://www.goodreads.com/series/104014-a-cour...   \n",
       "2  https://www.goodreads.com/series/104014-a-cour...   \n",
       "3  https://www.goodreads.com/series/104014-a-cour...   \n",
       "4  https://www.goodreads.com/series/104014-a-cour...   \n",
       "\n",
       "                                          book_image  \\\n",
       "0  https://images.gr-assets.com/books/1485528243l...   \n",
       "1  https://images.gr-assets.com/books/1485528243l...   \n",
       "2  https://images.gr-assets.com/books/1485528243l...   \n",
       "3  https://images.gr-assets.com/books/1485528243l...   \n",
       "4  https://images.gr-assets.com/books/1485528243l...   \n",
       "\n",
       "                                      book_image_url  book_rating  \\\n",
       "0  https://www.goodreads.com/book/photo/23766634-...         4.51   \n",
       "1  https://www.goodreads.com/book/photo/23766634-...         4.51   \n",
       "2  https://www.goodreads.com/book/photo/23766634-...         4.51   \n",
       "3  https://www.goodreads.com/book/photo/23766634-...         4.51   \n",
       "4  https://www.goodreads.com/book/photo/23766634-...         4.51   \n",
       "\n",
       "     book_author                                         author_url  \\\n",
       "0  Sarah J. Maas  https://www.goodreads.com/author/show/3433047....   \n",
       "1  Sarah J. Maas  https://www.goodreads.com/author/show/3433047....   \n",
       "2  Sarah J. Maas  https://www.goodreads.com/author/show/3433047....   \n",
       "3  Sarah J. Maas  https://www.goodreads.com/author/show/3433047....   \n",
       "4  Sarah J. Maas  https://www.goodreads.com/author/show/3433047....   \n",
       "\n",
       "                                      genre                 reviewer_name  \\\n",
       "0  Fantasy, Romance, Young Adult, New Adult                          emma   \n",
       "1  Fantasy, Romance, Young Adult, New Adult  Em (RunawayWithDreamthieves)   \n",
       "2  Fantasy, Romance, Young Adult, New Adult     Cait • A Page with a View   \n",
       "3  Fantasy, Romance, Young Adult, New Adult                Natalie Monroe   \n",
       "4  Fantasy, Romance, Young Adult, New Adult                     Emily May   \n",
       "\n",
       "                                        reviewer_url  \\\n",
       "0  https://www.goodreads.com/user/show/32879029-emma   \n",
       "1  https://www.goodreads.com/user/show/42130592-e...   \n",
       "2  https://www.goodreads.com/user/show/47412532-c...   \n",
       "3  https://www.goodreads.com/user/show/6688207-na...   \n",
       "4  https://www.goodreads.com/user/show/4622890-em...   \n",
       "\n",
       "                                      reviewer_image  \\\n",
       "0  https://images.gr-assets.com/users/1520568130p...   \n",
       "1  https://images.gr-assets.com/users/1538507799p...   \n",
       "2  https://images.gr-assets.com/users/1523134490p...   \n",
       "3  https://images.gr-assets.com/users/1339730817p...   \n",
       "4  https://images.gr-assets.com/users/1528390751p...   \n",
       "\n",
       "                                  reviewer_image_url  \\\n",
       "0  https://www.goodreads.com/user/show/32879029-emma   \n",
       "1  https://www.goodreads.com/user/show/42130592-e...   \n",
       "2  https://www.goodreads.com/user/show/47412532-c...   \n",
       "3  https://www.goodreads.com/user/show/6688207-na...   \n",
       "4  https://www.goodreads.com/user/show/4622890-em...   \n",
       "\n",
       "                                              review  ID  \n",
       "0  202.\\r\\nThat’s the number of times that the wo...   1  \n",
       "1  I need a black silk robe and a balcony to wear...   2  \n",
       "2  THIS BOOK TOTALLY WRECKED ME. In the best poss...   3  \n",
       "3  3.75 stars\\r\\n\"Rhys stepped off the stairs and...   4  \n",
       "4  I wish so much that I could tell you I loved t...   5  "
      ]
     },
     "execution_count": 8,
     "metadata": {},
     "output_type": "execute_result"
    }
   ],
   "source": [
    "#menampilkan 5 data teratas yang sudah di cek duplicate value\n",
    "data['book_title'].drop_duplicates(keep=False,inplace=True)\n",
    "data.head()"
   ]
  },
  {
   "cell_type": "markdown",
   "metadata": {},
   "source": [
    "## 3. Data Preprocessing"
   ]
  },
  {
   "cell_type": "markdown",
   "metadata": {},
   "source": [
    "### Case Folding"
   ]
  },
  {
   "cell_type": "code",
   "execution_count": 9,
   "metadata": {},
   "outputs": [
    {
     "data": {
      "text/plain": [
       "0    202.\\r\\nthat’s the number of times that the wo...\n",
       "1    i need a black silk robe and a balcony to wear...\n",
       "2    this book totally wrecked me. in the best poss...\n",
       "3    3.75 stars\\r\\n\"rhys stepped off the stairs and...\n",
       "4    i wish so much that i could tell you i loved t...\n",
       "Name: lower, dtype: object"
      ]
     },
     "execution_count": 9,
     "metadata": {},
     "output_type": "execute_result"
    }
   ],
   "source": [
    "#mengubah huruf kapital menjadi huruf kecil yang ditampung pada parameter \"lower\"\n",
    "# fungsi casefold digunakan agar karakter khusus dari beberapa bahasa di-convert menjadi karakter alfabet\n",
    "review = []\n",
    "for i in range(0, 21559):\n",
    "    review.append(data[\"review\"][i].casefold())\n",
    "    \n",
    "data['lower'] = review\n",
    "data['lower'].head()"
   ]
  },
  {
   "cell_type": "markdown",
   "metadata": {},
   "source": [
    "### Remove Punctuation"
   ]
  },
  {
   "cell_type": "code",
   "execution_count": 10,
   "metadata": {},
   "outputs": [],
   "source": [
    "#menghilangkan tanda baca dan ditampung oleh atribut baru yaitu \"no_punc\"\n",
    "# fungsi replace digunakan apabila karakter sudah diketahui terdapat dalam dataset\n",
    "review = []\n",
    "for i in range(0, 21559):\n",
    "    review.append(repr(data[\"lower\"][i].replace(\",\", \"\").replace(\"\\n\", \"\")\n",
    "                                       .replace(\"\\r\", \"\").replace(\"---\", \"\")\n",
    "                                       .replace('|','').replace(\"!\",\"\")\n",
    "                                       .replace(\"//\", \"\").replace(\"?\",\"\")\n",
    "                                       .replace(\"    \", \" \").replace(\"  \",\" \")))"
   ]
  },
  {
   "cell_type": "code",
   "execution_count": 11,
   "metadata": {},
   "outputs": [
    {
     "data": {
      "text/html": [
       "<div>\n",
       "<style scoped>\n",
       "    .dataframe tbody tr th:only-of-type {\n",
       "        vertical-align: middle;\n",
       "    }\n",
       "\n",
       "    .dataframe tbody tr th {\n",
       "        vertical-align: top;\n",
       "    }\n",
       "\n",
       "    .dataframe thead th {\n",
       "        text-align: right;\n",
       "    }\n",
       "</style>\n",
       "<table border=\"1\" class=\"dataframe\">\n",
       "  <thead>\n",
       "    <tr style=\"text-align: right;\">\n",
       "      <th></th>\n",
       "      <th>book_title</th>\n",
       "      <th>book_rating</th>\n",
       "      <th>genre</th>\n",
       "      <th>no_punc</th>\n",
       "    </tr>\n",
       "  </thead>\n",
       "  <tbody>\n",
       "    <tr>\n",
       "      <th>0</th>\n",
       "      <td>A Court of Wings and Ruin</td>\n",
       "      <td>4.51</td>\n",
       "      <td>Fantasy, Romance, Young Adult, New Adult</td>\n",
       "      <td>\"202 that’s the number of times that the word ...</td>\n",
       "    </tr>\n",
       "    <tr>\n",
       "      <th>1</th>\n",
       "      <td>A Court of Wings and Ruin</td>\n",
       "      <td>4.51</td>\n",
       "      <td>Fantasy, Romance, Young Adult, New Adult</td>\n",
       "      <td>'i need a black silk robe and a balcony to wea...</td>\n",
       "    </tr>\n",
       "    <tr>\n",
       "      <th>2</th>\n",
       "      <td>A Court of Wings and Ruin</td>\n",
       "      <td>4.51</td>\n",
       "      <td>Fantasy, Romance, Young Adult, New Adult</td>\n",
       "      <td>'this book totally wrecked me in the best poss...</td>\n",
       "    </tr>\n",
       "    <tr>\n",
       "      <th>3</th>\n",
       "      <td>A Court of Wings and Ruin</td>\n",
       "      <td>4.51</td>\n",
       "      <td>Fantasy, Romance, Young Adult, New Adult</td>\n",
       "      <td>'5 stars\"rhys stepped off the stairs and took ...</td>\n",
       "    </tr>\n",
       "    <tr>\n",
       "      <th>4</th>\n",
       "      <td>A Court of Wings and Ruin</td>\n",
       "      <td>4.51</td>\n",
       "      <td>Fantasy, Romance, Young Adult, New Adult</td>\n",
       "      <td>'i wish so much that i could tell you i loved ...</td>\n",
       "    </tr>\n",
       "  </tbody>\n",
       "</table>\n",
       "</div>"
      ],
      "text/plain": [
       "                  book_title  book_rating  \\\n",
       "0  A Court of Wings and Ruin         4.51   \n",
       "1  A Court of Wings and Ruin         4.51   \n",
       "2  A Court of Wings and Ruin         4.51   \n",
       "3  A Court of Wings and Ruin         4.51   \n",
       "4  A Court of Wings and Ruin         4.51   \n",
       "\n",
       "                                      genre  \\\n",
       "0  Fantasy, Romance, Young Adult, New Adult   \n",
       "1  Fantasy, Romance, Young Adult, New Adult   \n",
       "2  Fantasy, Romance, Young Adult, New Adult   \n",
       "3  Fantasy, Romance, Young Adult, New Adult   \n",
       "4  Fantasy, Romance, Young Adult, New Adult   \n",
       "\n",
       "                                             no_punc  \n",
       "0  \"202 that’s the number of times that the word ...  \n",
       "1  'i need a black silk robe and a balcony to wea...  \n",
       "2  'this book totally wrecked me in the best poss...  \n",
       "3  '5 stars\"rhys stepped off the stairs and took ...  \n",
       "4  'i wish so much that i could tell you i loved ...  "
      ]
     },
     "execution_count": 11,
     "metadata": {},
     "output_type": "execute_result"
    }
   ],
   "source": [
    "# menghilangkan tanda baca yang tidak diketahui dari dataset\n",
    "# sehingga tanda baca benar-benar terhapus secara keseluruhan\n",
    "reviews = []\n",
    "for i in review:\n",
    "    review = re.sub(r'\\ by.*? on', \"\", i)\n",
    "    review = re.sub(r\"\\d\\.\\d\", \"\", review)\n",
    "    review = re.sub(r\"\\d+\\ [a-z]+\\.*\\ \\d+\", \"\", review)\n",
    "    review = review.replace(\".\", \" \")\n",
    "    review = re.sub(r'\\  *', \" \", review)\n",
    "    reviews.append(review)\n",
    "    \n",
    "data[\"no_punc\"] = reviews\n",
    "data[[\"book_title\", \"book_rating\", \"genre\", \"no_punc\"]].head()"
   ]
  },
  {
   "cell_type": "markdown",
   "metadata": {},
   "source": [
    "Data yang sudah dilakukan preprocessing akan disimpan menjadi data baru dalam file DataBuku.csv"
   ]
  },
  {
   "cell_type": "code",
   "execution_count": 12,
   "metadata": {},
   "outputs": [],
   "source": [
    "new = data[[\"ID\", \"book_title\", \"book_rating\", \"genre\", \"no_punc\"]]\n",
    "new.to_csv(\"./DataBuku.csv\")"
   ]
  },
  {
   "cell_type": "code",
   "execution_count": 13,
   "metadata": {},
   "outputs": [
    {
     "data": {
      "text/html": [
       "<div>\n",
       "<style scoped>\n",
       "    .dataframe tbody tr th:only-of-type {\n",
       "        vertical-align: middle;\n",
       "    }\n",
       "\n",
       "    .dataframe tbody tr th {\n",
       "        vertical-align: top;\n",
       "    }\n",
       "\n",
       "    .dataframe thead th {\n",
       "        text-align: right;\n",
       "    }\n",
       "</style>\n",
       "<table border=\"1\" class=\"dataframe\">\n",
       "  <thead>\n",
       "    <tr style=\"text-align: right;\">\n",
       "      <th></th>\n",
       "      <th>Unnamed: 0</th>\n",
       "      <th>ID</th>\n",
       "      <th>book_title</th>\n",
       "      <th>book_rating</th>\n",
       "      <th>genre</th>\n",
       "      <th>no_punc</th>\n",
       "    </tr>\n",
       "  </thead>\n",
       "  <tbody>\n",
       "    <tr>\n",
       "      <th>0</th>\n",
       "      <td>0</td>\n",
       "      <td>1</td>\n",
       "      <td>A Court of Wings and Ruin</td>\n",
       "      <td>4.51</td>\n",
       "      <td>Fantasy, Romance, Young Adult, New Adult</td>\n",
       "      <td>\"202 that’s the number of times that the word ...</td>\n",
       "    </tr>\n",
       "    <tr>\n",
       "      <th>1</th>\n",
       "      <td>1</td>\n",
       "      <td>2</td>\n",
       "      <td>A Court of Wings and Ruin</td>\n",
       "      <td>4.51</td>\n",
       "      <td>Fantasy, Romance, Young Adult, New Adult</td>\n",
       "      <td>'i need a black silk robe and a balcony to wea...</td>\n",
       "    </tr>\n",
       "    <tr>\n",
       "      <th>2</th>\n",
       "      <td>2</td>\n",
       "      <td>3</td>\n",
       "      <td>A Court of Wings and Ruin</td>\n",
       "      <td>4.51</td>\n",
       "      <td>Fantasy, Romance, Young Adult, New Adult</td>\n",
       "      <td>'this book totally wrecked me in the best poss...</td>\n",
       "    </tr>\n",
       "    <tr>\n",
       "      <th>3</th>\n",
       "      <td>3</td>\n",
       "      <td>4</td>\n",
       "      <td>A Court of Wings and Ruin</td>\n",
       "      <td>4.51</td>\n",
       "      <td>Fantasy, Romance, Young Adult, New Adult</td>\n",
       "      <td>'5 stars\"rhys stepped off the stairs and took ...</td>\n",
       "    </tr>\n",
       "    <tr>\n",
       "      <th>4</th>\n",
       "      <td>4</td>\n",
       "      <td>5</td>\n",
       "      <td>A Court of Wings and Ruin</td>\n",
       "      <td>4.51</td>\n",
       "      <td>Fantasy, Romance, Young Adult, New Adult</td>\n",
       "      <td>'i wish so much that i could tell you i loved ...</td>\n",
       "    </tr>\n",
       "  </tbody>\n",
       "</table>\n",
       "</div>"
      ],
      "text/plain": [
       "   Unnamed: 0  ID                 book_title  book_rating  \\\n",
       "0           0   1  A Court of Wings and Ruin         4.51   \n",
       "1           1   2  A Court of Wings and Ruin         4.51   \n",
       "2           2   3  A Court of Wings and Ruin         4.51   \n",
       "3           3   4  A Court of Wings and Ruin         4.51   \n",
       "4           4   5  A Court of Wings and Ruin         4.51   \n",
       "\n",
       "                                      genre  \\\n",
       "0  Fantasy, Romance, Young Adult, New Adult   \n",
       "1  Fantasy, Romance, Young Adult, New Adult   \n",
       "2  Fantasy, Romance, Young Adult, New Adult   \n",
       "3  Fantasy, Romance, Young Adult, New Adult   \n",
       "4  Fantasy, Romance, Young Adult, New Adult   \n",
       "\n",
       "                                             no_punc  \n",
       "0  \"202 that’s the number of times that the word ...  \n",
       "1  'i need a black silk robe and a balcony to wea...  \n",
       "2  'this book totally wrecked me in the best poss...  \n",
       "3  '5 stars\"rhys stepped off the stairs and took ...  \n",
       "4  'i wish so much that i could tell you i loved ...  "
      ]
     },
     "execution_count": 13,
     "metadata": {},
     "output_type": "execute_result"
    }
   ],
   "source": [
    "dataset = pd.read_csv(\"./Databuku.csv\", delimiter=\",\")\n",
    "dataset.head()"
   ]
  },
  {
   "cell_type": "markdown",
   "metadata": {},
   "source": [
    "### Tokenization"
   ]
  },
  {
   "cell_type": "code",
   "execution_count": 14,
   "metadata": {},
   "outputs": [
    {
     "data": {
      "text/plain": [
       "0    [\"202, that’s, the, number, of, times, that, t...\n",
       "1    ['i, need, a, black, silk, robe, and, a, balco...\n",
       "2    ['this, book, totally, wrecked, me, in, the, b...\n",
       "3    ['5, stars\"rhys, stepped, off, the, stairs, an...\n",
       "4    ['i, wish, so, much, that, i, could, tell, you...\n",
       "Name: tokenized, dtype: object"
      ]
     },
     "execution_count": 14,
     "metadata": {},
     "output_type": "execute_result"
    }
   ],
   "source": [
    "#melakukan tokenisasi pada atribut \"review\" yang ditampung dalam parameter \"tokenized\"\n",
    "from nltk.tokenize import SpaceTokenizer\n",
    "sTokenizer = SpaceTokenizer()\n",
    "review_tokens = []\n",
    "for i in dataset['no_punc']:\n",
    "    review_tokens.append(sTokenizer.tokenize(i))\n",
    "    \n",
    "dataset['tokenized'] = review_tokens\n",
    "dataset['tokenized'].head()"
   ]
  },
  {
   "cell_type": "code",
   "execution_count": 15,
   "metadata": {},
   "outputs": [
    {
     "data": {
      "text/html": [
       "<div>\n",
       "<style scoped>\n",
       "    .dataframe tbody tr th:only-of-type {\n",
       "        vertical-align: middle;\n",
       "    }\n",
       "\n",
       "    .dataframe tbody tr th {\n",
       "        vertical-align: top;\n",
       "    }\n",
       "\n",
       "    .dataframe thead th {\n",
       "        text-align: right;\n",
       "    }\n",
       "</style>\n",
       "<table border=\"1\" class=\"dataframe\">\n",
       "  <thead>\n",
       "    <tr style=\"text-align: right;\">\n",
       "      <th></th>\n",
       "      <th>ID</th>\n",
       "      <th>book_title</th>\n",
       "      <th>book_rating</th>\n",
       "      <th>genre</th>\n",
       "      <th>review_vocabs</th>\n",
       "    </tr>\n",
       "  </thead>\n",
       "  <tbody>\n",
       "    <tr>\n",
       "      <th>0</th>\n",
       "      <td>1</td>\n",
       "      <td>A Court of Wings and Ruin</td>\n",
       "      <td>4.51</td>\n",
       "      <td>Fantasy, Romance, Young Adult, New Adult</td>\n",
       "      <td>{with, incontrovertible, captain, family, seri...</td>\n",
       "    </tr>\n",
       "    <tr>\n",
       "      <th>1</th>\n",
       "      <td>2</td>\n",
       "      <td>A Court of Wings and Ruin</td>\n",
       "      <td>4.51</td>\n",
       "      <td>Fantasy, Romance, Young Adult, New Adult</td>\n",
       "      <td>{softness, with, disgusting, series, *chokes, ...</td>\n",
       "    </tr>\n",
       "    <tr>\n",
       "      <th>2</th>\n",
       "      <td>3</td>\n",
       "      <td>A Court of Wings and Ruin</td>\n",
       "      <td>4.51</td>\n",
       "      <td>Fantasy, Romance, Young Adult, New Adult</td>\n",
       "      <td>{seek, with, meant, curious, family, “tan, ser...</td>\n",
       "    </tr>\n",
       "    <tr>\n",
       "      <th>3</th>\n",
       "      <td>4</td>\n",
       "      <td>A Court of Wings and Ruin</td>\n",
       "      <td>4.51</td>\n",
       "      <td>Fantasy, Romance, Young Adult, New Adult</td>\n",
       "      <td>{meant, experience, life, hand, invested, two,...</td>\n",
       "    </tr>\n",
       "    <tr>\n",
       "      <th>4</th>\n",
       "      <td>5</td>\n",
       "      <td>A Court of Wings and Ruin</td>\n",
       "      <td>4.51</td>\n",
       "      <td>Fantasy, Romance, Young Adult, New Adult</td>\n",
       "      <td>{struggled, with, didn\\'t, tension, lies, usua...</td>\n",
       "    </tr>\n",
       "  </tbody>\n",
       "</table>\n",
       "</div>"
      ],
      "text/plain": [
       "   ID                 book_title  book_rating  \\\n",
       "0   1  A Court of Wings and Ruin         4.51   \n",
       "1   2  A Court of Wings and Ruin         4.51   \n",
       "2   3  A Court of Wings and Ruin         4.51   \n",
       "3   4  A Court of Wings and Ruin         4.51   \n",
       "4   5  A Court of Wings and Ruin         4.51   \n",
       "\n",
       "                                      genre  \\\n",
       "0  Fantasy, Romance, Young Adult, New Adult   \n",
       "1  Fantasy, Romance, Young Adult, New Adult   \n",
       "2  Fantasy, Romance, Young Adult, New Adult   \n",
       "3  Fantasy, Romance, Young Adult, New Adult   \n",
       "4  Fantasy, Romance, Young Adult, New Adult   \n",
       "\n",
       "                                       review_vocabs  \n",
       "0  {with, incontrovertible, captain, family, seri...  \n",
       "1  {softness, with, disgusting, series, *chokes, ...  \n",
       "2  {seek, with, meant, curious, family, “tan, ser...  \n",
       "3  {meant, experience, life, hand, invested, two,...  \n",
       "4  {struggled, with, didn\\'t, tension, lies, usua...  "
      ]
     },
     "execution_count": 15,
     "metadata": {},
     "output_type": "execute_result"
    }
   ],
   "source": [
    "# atribut review yang telah ditokenisasi akan dijadikan sebagai vocab dan disimpan dalam \"review_vocabs\"\n",
    "vocab = []\n",
    "for i in dataset['tokenized']:\n",
    "    vocab.append(set(i))\n",
    "    \n",
    "dataset['review_vocabs'] = vocab\n",
    "dataset[[\"ID\", \"book_title\", \"book_rating\", \"genre\", \"review_vocabs\"]].head()"
   ]
  },
  {
   "cell_type": "markdown",
   "metadata": {},
   "source": [
    "## 4. Word Embedding with Word2Vec"
   ]
  },
  {
   "cell_type": "code",
   "execution_count": 16,
   "metadata": {},
   "outputs": [],
   "source": [
    "#implementasi word2vec, skipgram\n",
    "word2vec_sg = Word2Vec(sentences=dataset['review_vocabs'],\n",
    "                       size=100, window=5, min_count=1,\n",
    "                       workers=4, sg=1, iter=10)"
   ]
  },
  {
   "cell_type": "code",
   "execution_count": 17,
   "metadata": {},
   "outputs": [
    {
     "data": {
      "text/plain": [
       "0.27318192"
      ]
     },
     "execution_count": 17,
     "metadata": {},
     "output_type": "execute_result"
    }
   ],
   "source": [
    "# memeriksa model\n",
    "word2vec_sg.wv.similarity(w1=\"great\",w2=\"good\")"
   ]
  },
  {
   "cell_type": "code",
   "execution_count": 18,
   "metadata": {},
   "outputs": [
    {
     "data": {
      "text/plain": [
       "[('lots', 0.850216805934906),\n",
       " ('perhaps', 0.8481690883636475),\n",
       " ('conclusion', 0.8304582834243774),\n",
       " ('growing', 0.8269223570823669),\n",
       " ('further', 0.8225026726722717),\n",
       " ('portions', 0.8098313808441162)]"
      ]
     },
     "execution_count": 18,
     "metadata": {},
     "output_type": "execute_result"
    }
   ],
   "source": [
    "w1 = [\"great\"]\n",
    "word2vec_sg.wv.most_similar (positive=w1,topn=6)"
   ]
  },
  {
   "cell_type": "code",
   "execution_count": 19,
   "metadata": {},
   "outputs": [
    {
     "data": {
      "text/plain": [
       "[('lots', 0.7603276968002319),\n",
       " ('portions', 0.7530075907707214),\n",
       " ('t', 0.7355201244354248),\n",
       " ('mythology', 0.7343843579292297),\n",
       " ('navigating', 0.7337413430213928),\n",
       " ('james', 0.7297959327697754),\n",
       " ('conclusion', 0.7254453897476196),\n",
       " ('challenges', 0.7235820293426514),\n",
       " ('visit', 0.7214760780334473),\n",
       " ('standalone', 0.7194653749465942)]"
      ]
     },
     "execution_count": 19,
     "metadata": {},
     "output_type": "execute_result"
    }
   ],
   "source": [
    "w1 = [\"good\",'fun','great']\n",
    "w2 = ['bad']\n",
    "word2vec_sg.wv.most_similar (positive=w1,negative=w2,topn=10)"
   ]
  },
  {
   "cell_type": "code",
   "execution_count": 20,
   "metadata": {},
   "outputs": [
    {
     "data": {
      "text/plain": [
       "1.0"
      ]
     },
     "execution_count": 20,
     "metadata": {},
     "output_type": "execute_result"
    }
   ],
   "source": [
    "# memastikan akurasi model dalam mengenali kata dan mencari similarity\n",
    "word2vec_sg.wv.similarity(w1=\"good\",w2=\"good\")"
   ]
  },
  {
   "cell_type": "code",
   "execution_count": 21,
   "metadata": {},
   "outputs": [],
   "source": [
    "# menyimpan model yang telah dibangun\n",
    "word2vec_sg.save(\"word2vec_model\")\n",
    "w2v = Word2Vec.load(\"word2vec_model\")"
   ]
  },
  {
   "cell_type": "code",
   "execution_count": 22,
   "metadata": {},
   "outputs": [],
   "source": [
    "# mencari vector dari setiap vocab\n",
    "book_data = []\n",
    "for key,book in enumerate(dataset['review_vocabs']):\n",
    "    if len(book) == 0:\n",
    "        print(book, key)\n",
    "    feature_vector = np.zeros((100,), dtype=\"float32\")\n",
    "    nwords = len(book)\n",
    "    for token in book:\n",
    "        feature_vector = np.add(feature_vector, w2v[token])\n",
    "    \n",
    "    feature_vector = np.divide(feature_vector, nwords)\n",
    "    book_data.append({'book': dataset['book_title'][key],\n",
    "                      'tags':book, 'vector':feature_vector})"
   ]
  },
  {
   "cell_type": "code",
   "execution_count": 23,
   "metadata": {},
   "outputs": [
    {
     "data": {
      "text/html": [
       "<div>\n",
       "<style scoped>\n",
       "    .dataframe tbody tr th:only-of-type {\n",
       "        vertical-align: middle;\n",
       "    }\n",
       "\n",
       "    .dataframe tbody tr th {\n",
       "        vertical-align: top;\n",
       "    }\n",
       "\n",
       "    .dataframe thead th {\n",
       "        text-align: right;\n",
       "    }\n",
       "</style>\n",
       "<table border=\"1\" class=\"dataframe\">\n",
       "  <thead>\n",
       "    <tr style=\"text-align: right;\">\n",
       "      <th></th>\n",
       "      <th>book</th>\n",
       "      <th>tags</th>\n",
       "      <th>vector</th>\n",
       "    </tr>\n",
       "  </thead>\n",
       "  <tbody>\n",
       "    <tr>\n",
       "      <th>0</th>\n",
       "      <td>A Court of Wings and Ruin</td>\n",
       "      <td>{with, incontrovertible, captain, family, seri...</td>\n",
       "      <td>[-0.17142557, -0.014792559, 0.095906004, 0.309...</td>\n",
       "    </tr>\n",
       "    <tr>\n",
       "      <th>1</th>\n",
       "      <td>A Court of Wings and Ruin</td>\n",
       "      <td>{softness, with, disgusting, series, *chokes, ...</td>\n",
       "      <td>[-0.17515428, -0.01727866, 0.08581619, 0.29022...</td>\n",
       "    </tr>\n",
       "    <tr>\n",
       "      <th>2</th>\n",
       "      <td>A Court of Wings and Ruin</td>\n",
       "      <td>{seek, with, meant, curious, family, “tan, ser...</td>\n",
       "      <td>[-0.17082925, -0.051938463, 0.12259743, 0.3411...</td>\n",
       "    </tr>\n",
       "    <tr>\n",
       "      <th>3</th>\n",
       "      <td>A Court of Wings and Ruin</td>\n",
       "      <td>{meant, experience, life, hand, invested, two,...</td>\n",
       "      <td>[-0.21892951, -0.03878222, 0.11211488, 0.29385...</td>\n",
       "    </tr>\n",
       "    <tr>\n",
       "      <th>4</th>\n",
       "      <td>A Court of Wings and Ruin</td>\n",
       "      <td>{struggled, with, didn\\'t, tension, lies, usua...</td>\n",
       "      <td>[-0.14607553, -0.04368714, 0.11837913, 0.33272...</td>\n",
       "    </tr>\n",
       "    <tr>\n",
       "      <th>5</th>\n",
       "      <td>A Court of Wings and Ruin</td>\n",
       "      <td>{with, aelin’s, series, laughed, adventure, tw...</td>\n",
       "      <td>[-0.24817279, -0.06105641, 0.075658225, 0.3076...</td>\n",
       "    </tr>\n",
       "    <tr>\n",
       "      <th>6</th>\n",
       "      <td>A Court of Wings and Ruin</td>\n",
       "      <td>{with, life, brutal, feyre's, series, books, o...</td>\n",
       "      <td>[-0.1487908, -0.03758522, 0.10654967, 0.279564...</td>\n",
       "    </tr>\n",
       "    <tr>\n",
       "      <th>7</th>\n",
       "      <td>A Court of Wings and Ruin</td>\n",
       "      <td>{with, tension, awaiting, what, young, in, eve...</td>\n",
       "      <td>[-0.21849072, -0.04394653, 0.07327992, 0.36261...</td>\n",
       "    </tr>\n",
       "    <tr>\n",
       "      <th>8</th>\n",
       "      <td>A Court of Wings and Ruin</td>\n",
       "      <td>{meantime, this, is, of, sobbing, deem, court,...</td>\n",
       "      <td>[-0.14057422, -0.12150091, 0.08739045, 0.36889...</td>\n",
       "    </tr>\n",
       "    <tr>\n",
       "      <th>9</th>\n",
       "      <td>A Court of Wings and Ruin</td>\n",
       "      <td>{acowar, with, this, series, finale, is, again...</td>\n",
       "      <td>[-0.2008527, -0.09730102, 0.11505303, 0.305623...</td>\n",
       "    </tr>\n",
       "  </tbody>\n",
       "</table>\n",
       "</div>"
      ],
      "text/plain": [
       "                        book  \\\n",
       "0  A Court of Wings and Ruin   \n",
       "1  A Court of Wings and Ruin   \n",
       "2  A Court of Wings and Ruin   \n",
       "3  A Court of Wings and Ruin   \n",
       "4  A Court of Wings and Ruin   \n",
       "5  A Court of Wings and Ruin   \n",
       "6  A Court of Wings and Ruin   \n",
       "7  A Court of Wings and Ruin   \n",
       "8  A Court of Wings and Ruin   \n",
       "9  A Court of Wings and Ruin   \n",
       "\n",
       "                                                tags  \\\n",
       "0  {with, incontrovertible, captain, family, seri...   \n",
       "1  {softness, with, disgusting, series, *chokes, ...   \n",
       "2  {seek, with, meant, curious, family, “tan, ser...   \n",
       "3  {meant, experience, life, hand, invested, two,...   \n",
       "4  {struggled, with, didn\\'t, tension, lies, usua...   \n",
       "5  {with, aelin’s, series, laughed, adventure, tw...   \n",
       "6  {with, life, brutal, feyre's, series, books, o...   \n",
       "7  {with, tension, awaiting, what, young, in, eve...   \n",
       "8  {meantime, this, is, of, sobbing, deem, court,...   \n",
       "9  {acowar, with, this, series, finale, is, again...   \n",
       "\n",
       "                                              vector  \n",
       "0  [-0.17142557, -0.014792559, 0.095906004, 0.309...  \n",
       "1  [-0.17515428, -0.01727866, 0.08581619, 0.29022...  \n",
       "2  [-0.17082925, -0.051938463, 0.12259743, 0.3411...  \n",
       "3  [-0.21892951, -0.03878222, 0.11211488, 0.29385...  \n",
       "4  [-0.14607553, -0.04368714, 0.11837913, 0.33272...  \n",
       "5  [-0.24817279, -0.06105641, 0.075658225, 0.3076...  \n",
       "6  [-0.1487908, -0.03758522, 0.10654967, 0.279564...  \n",
       "7  [-0.21849072, -0.04394653, 0.07327992, 0.36261...  \n",
       "8  [-0.14057422, -0.12150091, 0.08739045, 0.36889...  \n",
       "9  [-0.2008527, -0.09730102, 0.11505303, 0.305623...  "
      ]
     },
     "execution_count": 23,
     "metadata": {},
     "output_type": "execute_result"
    }
   ],
   "source": [
    "book_vector_df = pd.DataFrame(book_data,columns=['book', \n",
    "                                                 'tags', \n",
    "                                                 'vector'])\n",
    "book_vector_df[:10]"
   ]
  },
  {
   "cell_type": "code",
   "execution_count": 24,
   "metadata": {},
   "outputs": [
    {
     "data": {
      "text/plain": [
       "(21559, 3)"
      ]
     },
     "execution_count": 24,
     "metadata": {},
     "output_type": "execute_result"
    }
   ],
   "source": [
    "book_vector_df.shape"
   ]
  },
  {
   "cell_type": "markdown",
   "metadata": {},
   "source": [
    "## 5. Book Recommendation"
   ]
  },
  {
   "cell_type": "code",
   "execution_count": 25,
   "metadata": {},
   "outputs": [],
   "source": [
    "words_in_vocab= set(word2vec_sg.wv.index2word)"
   ]
  },
  {
   "cell_type": "code",
   "execution_count": 26,
   "metadata": {},
   "outputs": [],
   "source": [
    "# fungsi untuk mencari cosine_similarity berdasarkan vector dari vocab\n",
    "def get_cosine_similarity(row, search_vector):\n",
    "    try:\n",
    "        cosine_similarity = np.dot(row['vector'], search_vector)/linalg.norm(row['vector'])/linalg.norm(search_vector)\n",
    "        return cosine_similarity\n",
    "    except Exception as e:\n",
    "        raise e"
   ]
  },
  {
   "cell_type": "code",
   "execution_count": 47,
   "metadata": {},
   "outputs": [
    {
     "name": "stdout",
     "output_type": "stream",
     "text": [
      "Buku yang dicari: A Crown of Wishes\n"
     ]
    }
   ],
   "source": [
    "# Mencari buku dengan judul \"A Crown of Wishes\" yang terdapat dalam dataset\n",
    "book = input('Buku yang dicari: ')"
   ]
  },
  {
   "cell_type": "code",
   "execution_count": 48,
   "metadata": {},
   "outputs": [],
   "source": [
    "# mencari judul buku yang dicari dalam dataset\n",
    "index_similar_book = 21559\n",
    "for i, j in enumerate(dataset['book_title']):\n",
    "    if j == book:\n",
    "        index_similar_book = i\n",
    "\n",
    "# jika buku ada, maka akan disimpan dalam variable search_query\n",
    "# jika buku tidak ada, maka search_query akan dikosongkan\n",
    "if index_similar_book != 21559:\n",
    "    search_query = dataset['review_vocabs'][index_similar_book]\n",
    "else:\n",
    "    search_query = []"
   ]
  },
  {
   "cell_type": "code",
   "execution_count": 49,
   "metadata": {},
   "outputs": [],
   "source": [
    "# mencari buku-buku rekomendasi berdasarkan cosine_similarity tertinggi\n",
    "search_vector = np.zeros((100,), dtype=\"float32\")\n",
    "for tag in search_query:\n",
    "    if tag in words_in_vocab:\n",
    "        search_vector = np.add(search_vector, w2v[tag])\n",
    "        \n",
    "book_vector_df['cosine_similarity'] = book_vector_df.apply(get_cosine_similarity,\n",
    "                                                           axis=1, args=(search_vector,))"
   ]
  },
  {
   "cell_type": "code",
   "execution_count": 50,
   "metadata": {},
   "outputs": [],
   "source": [
    "# melakukan sorting berdasarkan cosine_similarity\n",
    "df = book_vector_df.sort_values(by='cosine_similarity', ascending=False)[:10]"
   ]
  },
  {
   "cell_type": "code",
   "execution_count": 51,
   "metadata": {
    "scrolled": true
   },
   "outputs": [
    {
     "name": "stdout",
     "output_type": "stream",
     "text": [
      "Maka buku yang direkomendasikan berdasarkan buku 'A Crown of Wishes' adalah :\n"
     ]
    },
    {
     "data": {
      "text/html": [
       "<div>\n",
       "<style scoped>\n",
       "    .dataframe tbody tr th:only-of-type {\n",
       "        vertical-align: middle;\n",
       "    }\n",
       "\n",
       "    .dataframe tbody tr th {\n",
       "        vertical-align: top;\n",
       "    }\n",
       "\n",
       "    .dataframe thead th {\n",
       "        text-align: right;\n",
       "    }\n",
       "</style>\n",
       "<table border=\"1\" class=\"dataframe\">\n",
       "  <thead>\n",
       "    <tr style=\"text-align: right;\">\n",
       "      <th></th>\n",
       "      <th>book</th>\n",
       "      <th>cosine_similarity</th>\n",
       "    </tr>\n",
       "  </thead>\n",
       "  <tbody>\n",
       "    <tr>\n",
       "      <th>5740</th>\n",
       "      <td>A Crown of Wishes</td>\n",
       "      <td>1.000000</td>\n",
       "    </tr>\n",
       "    <tr>\n",
       "      <th>11551</th>\n",
       "      <td>The Wicked Cousin</td>\n",
       "      <td>0.997210</td>\n",
       "    </tr>\n",
       "    <tr>\n",
       "      <th>17692</th>\n",
       "      <td>Want</td>\n",
       "      <td>0.997179</td>\n",
       "    </tr>\n",
       "    <tr>\n",
       "      <th>1471</th>\n",
       "      <td>Royally Matched</td>\n",
       "      <td>0.996971</td>\n",
       "    </tr>\n",
       "    <tr>\n",
       "      <th>7917</th>\n",
       "      <td>Golden Prey</td>\n",
       "      <td>0.996841</td>\n",
       "    </tr>\n",
       "    <tr>\n",
       "      <th>18677</th>\n",
       "      <td>Our Own Private Universe</td>\n",
       "      <td>0.996805</td>\n",
       "    </tr>\n",
       "    <tr>\n",
       "      <th>3844</th>\n",
       "      <td>When It's Real</td>\n",
       "      <td>0.996791</td>\n",
       "    </tr>\n",
       "    <tr>\n",
       "      <th>3546</th>\n",
       "      <td>A Piece of the World</td>\n",
       "      <td>0.996755</td>\n",
       "    </tr>\n",
       "    <tr>\n",
       "      <th>133</th>\n",
       "      <td>Caraval</td>\n",
       "      <td>0.996719</td>\n",
       "    </tr>\n",
       "    <tr>\n",
       "      <th>9078</th>\n",
       "      <td>The Story of Us</td>\n",
       "      <td>0.996701</td>\n",
       "    </tr>\n",
       "  </tbody>\n",
       "</table>\n",
       "</div>"
      ],
      "text/plain": [
       "                           book  cosine_similarity\n",
       "5740          A Crown of Wishes           1.000000\n",
       "11551         The Wicked Cousin           0.997210\n",
       "17692                      Want           0.997179\n",
       "1471            Royally Matched           0.996971\n",
       "7917                Golden Prey           0.996841\n",
       "18677  Our Own Private Universe           0.996805\n",
       "3844             When It's Real           0.996791\n",
       "3546       A Piece of the World           0.996755\n",
       "133                     Caraval           0.996719\n",
       "9078            The Story of Us           0.996701"
      ]
     },
     "metadata": {},
     "output_type": "display_data"
    }
   ],
   "source": [
    "#10 buku teratas yang memiliki cosine similarity tertinggi\n",
    "if index_similar_book == 21559:\n",
    "    print(\"Buku '{0}' tidak ditemukan\".format(book))\n",
    "else:\n",
    "    print(\"Maka buku yang direkomendasikan berdasarkan buku '{0}' adalah :\".format(book))\n",
    "    display(df[['book', 'cosine_similarity']])"
   ]
  },
  {
   "cell_type": "code",
   "execution_count": null,
   "metadata": {},
   "outputs": [],
   "source": []
  }
 ],
 "metadata": {
  "kernelspec": {
   "display_name": "Python 3",
   "language": "python",
   "name": "python3"
  },
  "language_info": {
   "codemirror_mode": {
    "name": "ipython",
    "version": 3
   },
   "file_extension": ".py",
   "mimetype": "text/x-python",
   "name": "python",
   "nbconvert_exporter": "python",
   "pygments_lexer": "ipython3",
   "version": "3.6.5"
  }
 },
 "nbformat": 4,
 "nbformat_minor": 4
}
