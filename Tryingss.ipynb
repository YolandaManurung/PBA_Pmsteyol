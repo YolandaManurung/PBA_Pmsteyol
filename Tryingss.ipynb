{
 "cells": [
  {
   "cell_type": "markdown",
   "metadata": {},
   "source": [
    "# Recommender System based on Review Book in E-commerce Using word2vec Algorithm\n",
    "\n",
    "\n",
    "1. Yolanda R.M Manurung (12S17017)\n",
    "2. Stella Sitinjak      (12S17027)\n",
    "3. Ekis Naomi Lasma     (12S17059)\n",
    "\n",
    "\n",
    "### Dataset\n",
    "Data yang digunakan pada proyek ini berasal dari kaggle (https://www.kaggle.com/gapple/goodreads-book-reviews-20k)"
   ]
  },
  {
   "cell_type": "markdown",
   "metadata": {},
   "source": [
    "## 1. Load Data"
   ]
  },
  {
   "cell_type": "code",
   "execution_count": 1,
   "metadata": {},
   "outputs": [],
   "source": [
    "import warnings\n",
    "warnings.filterwarnings(\"ignore\")"
   ]
  },
  {
   "cell_type": "code",
   "execution_count": 2,
   "metadata": {},
   "outputs": [],
   "source": [
    "#import library yang akan digunakan\n",
    "import pandas as pd\n",
    "import re\n",
    "import gensim\n",
    "import string\n",
    "from gensim.models import Word2Vec\n",
    "import numpy as np\n",
    "from scipy import linalg\n",
    "from nltk.tokenize import word_tokenize\n",
    "from nltk.corpus import stopwords, wordnet"
   ]
  },
  {
   "cell_type": "code",
   "execution_count": 3,
   "metadata": {},
   "outputs": [
    {
     "name": "stdout",
     "output_type": "stream",
     "text": [
      "Jumlah data = 21559\n"
     ]
    },
    {
     "data": {
      "text/html": [
       "<div>\n",
       "<style scoped>\n",
       "    .dataframe tbody tr th:only-of-type {\n",
       "        vertical-align: middle;\n",
       "    }\n",
       "\n",
       "    .dataframe tbody tr th {\n",
       "        vertical-align: top;\n",
       "    }\n",
       "\n",
       "    .dataframe thead th {\n",
       "        text-align: right;\n",
       "    }\n",
       "</style>\n",
       "<table border=\"1\" class=\"dataframe\">\n",
       "  <thead>\n",
       "    <tr style=\"text-align: right;\">\n",
       "      <th></th>\n",
       "      <th>book_title</th>\n",
       "      <th>Book_series</th>\n",
       "      <th>book_series_url</th>\n",
       "      <th>book_image</th>\n",
       "      <th>book_image_url</th>\n",
       "      <th>book_rating</th>\n",
       "      <th>book_author</th>\n",
       "      <th>author_url</th>\n",
       "      <th>genre</th>\n",
       "      <th>reviewer_name</th>\n",
       "      <th>reviewer_url</th>\n",
       "      <th>reviewer_image</th>\n",
       "      <th>reviewer_image_url</th>\n",
       "      <th>review</th>\n",
       "      <th>ID</th>\n",
       "    </tr>\n",
       "  </thead>\n",
       "  <tbody>\n",
       "    <tr>\n",
       "      <th>0</th>\n",
       "      <td>A Court of Wings and Ruin</td>\n",
       "      <td>(A Court of Thorns and Roses #3)</td>\n",
       "      <td>https://www.goodreads.com/series/104014-a-cour...</td>\n",
       "      <td>https://images.gr-assets.com/books/1485528243l...</td>\n",
       "      <td>https://www.goodreads.com/book/photo/23766634-...</td>\n",
       "      <td>4.51</td>\n",
       "      <td>Sarah J. Maas</td>\n",
       "      <td>https://www.goodreads.com/author/show/3433047....</td>\n",
       "      <td>Fantasy, Romance, Young Adult, New Adult</td>\n",
       "      <td>emma</td>\n",
       "      <td>https://www.goodreads.com/user/show/32879029-emma</td>\n",
       "      <td>https://images.gr-assets.com/users/1520568130p...</td>\n",
       "      <td>https://www.goodreads.com/user/show/32879029-emma</td>\n",
       "      <td>202.\\r\\nThat’s the number of times that the wo...</td>\n",
       "      <td>1</td>\n",
       "    </tr>\n",
       "    <tr>\n",
       "      <th>1</th>\n",
       "      <td>A Court of Wings and Ruin</td>\n",
       "      <td>(A Court of Thorns and Roses #3)</td>\n",
       "      <td>https://www.goodreads.com/series/104014-a-cour...</td>\n",
       "      <td>https://images.gr-assets.com/books/1485528243l...</td>\n",
       "      <td>https://www.goodreads.com/book/photo/23766634-...</td>\n",
       "      <td>4.51</td>\n",
       "      <td>Sarah J. Maas</td>\n",
       "      <td>https://www.goodreads.com/author/show/3433047....</td>\n",
       "      <td>Fantasy, Romance, Young Adult, New Adult</td>\n",
       "      <td>Em (RunawayWithDreamthieves)</td>\n",
       "      <td>https://www.goodreads.com/user/show/42130592-e...</td>\n",
       "      <td>https://images.gr-assets.com/users/1538507799p...</td>\n",
       "      <td>https://www.goodreads.com/user/show/42130592-e...</td>\n",
       "      <td>I need a black silk robe and a balcony to wear...</td>\n",
       "      <td>2</td>\n",
       "    </tr>\n",
       "    <tr>\n",
       "      <th>2</th>\n",
       "      <td>A Court of Wings and Ruin</td>\n",
       "      <td>(A Court of Thorns and Roses #3)</td>\n",
       "      <td>https://www.goodreads.com/series/104014-a-cour...</td>\n",
       "      <td>https://images.gr-assets.com/books/1485528243l...</td>\n",
       "      <td>https://www.goodreads.com/book/photo/23766634-...</td>\n",
       "      <td>4.51</td>\n",
       "      <td>Sarah J. Maas</td>\n",
       "      <td>https://www.goodreads.com/author/show/3433047....</td>\n",
       "      <td>Fantasy, Romance, Young Adult, New Adult</td>\n",
       "      <td>Cait • A Page with a View</td>\n",
       "      <td>https://www.goodreads.com/user/show/47412532-c...</td>\n",
       "      <td>https://images.gr-assets.com/users/1523134490p...</td>\n",
       "      <td>https://www.goodreads.com/user/show/47412532-c...</td>\n",
       "      <td>THIS BOOK TOTALLY WRECKED ME. In the best poss...</td>\n",
       "      <td>3</td>\n",
       "    </tr>\n",
       "    <tr>\n",
       "      <th>3</th>\n",
       "      <td>A Court of Wings and Ruin</td>\n",
       "      <td>(A Court of Thorns and Roses #3)</td>\n",
       "      <td>https://www.goodreads.com/series/104014-a-cour...</td>\n",
       "      <td>https://images.gr-assets.com/books/1485528243l...</td>\n",
       "      <td>https://www.goodreads.com/book/photo/23766634-...</td>\n",
       "      <td>4.51</td>\n",
       "      <td>Sarah J. Maas</td>\n",
       "      <td>https://www.goodreads.com/author/show/3433047....</td>\n",
       "      <td>Fantasy, Romance, Young Adult, New Adult</td>\n",
       "      <td>Natalie Monroe</td>\n",
       "      <td>https://www.goodreads.com/user/show/6688207-na...</td>\n",
       "      <td>https://images.gr-assets.com/users/1339730817p...</td>\n",
       "      <td>https://www.goodreads.com/user/show/6688207-na...</td>\n",
       "      <td>3.75 stars\\r\\n\"Rhys stepped off the stairs and...</td>\n",
       "      <td>4</td>\n",
       "    </tr>\n",
       "    <tr>\n",
       "      <th>4</th>\n",
       "      <td>A Court of Wings and Ruin</td>\n",
       "      <td>(A Court of Thorns and Roses #3)</td>\n",
       "      <td>https://www.goodreads.com/series/104014-a-cour...</td>\n",
       "      <td>https://images.gr-assets.com/books/1485528243l...</td>\n",
       "      <td>https://www.goodreads.com/book/photo/23766634-...</td>\n",
       "      <td>4.51</td>\n",
       "      <td>Sarah J. Maas</td>\n",
       "      <td>https://www.goodreads.com/author/show/3433047....</td>\n",
       "      <td>Fantasy, Romance, Young Adult, New Adult</td>\n",
       "      <td>Emily May</td>\n",
       "      <td>https://www.goodreads.com/user/show/4622890-em...</td>\n",
       "      <td>https://images.gr-assets.com/users/1528390751p...</td>\n",
       "      <td>https://www.goodreads.com/user/show/4622890-em...</td>\n",
       "      <td>I wish so much that I could tell you I loved t...</td>\n",
       "      <td>5</td>\n",
       "    </tr>\n",
       "  </tbody>\n",
       "</table>\n",
       "</div>"
      ],
      "text/plain": [
       "                  book_title                       Book_series  \\\n",
       "0  A Court of Wings and Ruin  (A Court of Thorns and Roses #3)   \n",
       "1  A Court of Wings and Ruin  (A Court of Thorns and Roses #3)   \n",
       "2  A Court of Wings and Ruin  (A Court of Thorns and Roses #3)   \n",
       "3  A Court of Wings and Ruin  (A Court of Thorns and Roses #3)   \n",
       "4  A Court of Wings and Ruin  (A Court of Thorns and Roses #3)   \n",
       "\n",
       "                                     book_series_url  \\\n",
       "0  https://www.goodreads.com/series/104014-a-cour...   \n",
       "1  https://www.goodreads.com/series/104014-a-cour...   \n",
       "2  https://www.goodreads.com/series/104014-a-cour...   \n",
       "3  https://www.goodreads.com/series/104014-a-cour...   \n",
       "4  https://www.goodreads.com/series/104014-a-cour...   \n",
       "\n",
       "                                          book_image  \\\n",
       "0  https://images.gr-assets.com/books/1485528243l...   \n",
       "1  https://images.gr-assets.com/books/1485528243l...   \n",
       "2  https://images.gr-assets.com/books/1485528243l...   \n",
       "3  https://images.gr-assets.com/books/1485528243l...   \n",
       "4  https://images.gr-assets.com/books/1485528243l...   \n",
       "\n",
       "                                      book_image_url  book_rating  \\\n",
       "0  https://www.goodreads.com/book/photo/23766634-...         4.51   \n",
       "1  https://www.goodreads.com/book/photo/23766634-...         4.51   \n",
       "2  https://www.goodreads.com/book/photo/23766634-...         4.51   \n",
       "3  https://www.goodreads.com/book/photo/23766634-...         4.51   \n",
       "4  https://www.goodreads.com/book/photo/23766634-...         4.51   \n",
       "\n",
       "     book_author                                         author_url  \\\n",
       "0  Sarah J. Maas  https://www.goodreads.com/author/show/3433047....   \n",
       "1  Sarah J. Maas  https://www.goodreads.com/author/show/3433047....   \n",
       "2  Sarah J. Maas  https://www.goodreads.com/author/show/3433047....   \n",
       "3  Sarah J. Maas  https://www.goodreads.com/author/show/3433047....   \n",
       "4  Sarah J. Maas  https://www.goodreads.com/author/show/3433047....   \n",
       "\n",
       "                                      genre                 reviewer_name  \\\n",
       "0  Fantasy, Romance, Young Adult, New Adult                          emma   \n",
       "1  Fantasy, Romance, Young Adult, New Adult  Em (RunawayWithDreamthieves)   \n",
       "2  Fantasy, Romance, Young Adult, New Adult     Cait • A Page with a View   \n",
       "3  Fantasy, Romance, Young Adult, New Adult                Natalie Monroe   \n",
       "4  Fantasy, Romance, Young Adult, New Adult                     Emily May   \n",
       "\n",
       "                                        reviewer_url  \\\n",
       "0  https://www.goodreads.com/user/show/32879029-emma   \n",
       "1  https://www.goodreads.com/user/show/42130592-e...   \n",
       "2  https://www.goodreads.com/user/show/47412532-c...   \n",
       "3  https://www.goodreads.com/user/show/6688207-na...   \n",
       "4  https://www.goodreads.com/user/show/4622890-em...   \n",
       "\n",
       "                                      reviewer_image  \\\n",
       "0  https://images.gr-assets.com/users/1520568130p...   \n",
       "1  https://images.gr-assets.com/users/1538507799p...   \n",
       "2  https://images.gr-assets.com/users/1523134490p...   \n",
       "3  https://images.gr-assets.com/users/1339730817p...   \n",
       "4  https://images.gr-assets.com/users/1528390751p...   \n",
       "\n",
       "                                  reviewer_image_url  \\\n",
       "0  https://www.goodreads.com/user/show/32879029-emma   \n",
       "1  https://www.goodreads.com/user/show/42130592-e...   \n",
       "2  https://www.goodreads.com/user/show/47412532-c...   \n",
       "3  https://www.goodreads.com/user/show/6688207-na...   \n",
       "4  https://www.goodreads.com/user/show/4622890-em...   \n",
       "\n",
       "                                              review  ID  \n",
       "0  202.\\r\\nThat’s the number of times that the wo...   1  \n",
       "1  I need a black silk robe and a balcony to wear...   2  \n",
       "2  THIS BOOK TOTALLY WRECKED ME. In the best poss...   3  \n",
       "3  3.75 stars\\r\\n\"Rhys stepped off the stairs and...   4  \n",
       "4  I wish so much that I could tell you I loved t...   5  "
      ]
     },
     "execution_count": 3,
     "metadata": {},
     "output_type": "execute_result"
    }
   ],
   "source": [
    "#load dataset Goodreads buku dan menampilkan 5 data teratas\n",
    "data = pd.read_csv(\"./all_data.csv\")\n",
    "print ('Jumlah data =', len(data))\n",
    "data.head()"
   ]
  },
  {
   "cell_type": "markdown",
   "metadata": {},
   "source": [
    "## 2. Data Preparation"
   ]
  },
  {
   "cell_type": "markdown",
   "metadata": {},
   "source": [
    "Tahap awal sebelum preprocessing yaitu melakukan preparation untuk pengecekan data noise dan dirty. Tahap yang dilakukan adalah pengecekan null value dan duplicate value"
   ]
  },
  {
   "cell_type": "markdown",
   "metadata": {},
   "source": [
    "### Drop Null Value"
   ]
  },
  {
   "cell_type": "code",
   "execution_count": 4,
   "metadata": {},
   "outputs": [
    {
     "data": {
      "text/plain": [
       "book_title                0\n",
       "Book_series           12779\n",
       "book_series_url       12779\n",
       "book_image                2\n",
       "book_image_url            2\n",
       "book_rating               0\n",
       "book_author               0\n",
       "author_url                0\n",
       "genre                   121\n",
       "reviewer_name            25\n",
       "reviewer_url             25\n",
       "reviewer_image           25\n",
       "reviewer_image_url       25\n",
       "review                  742\n",
       "ID                        0\n",
       "dtype: int64"
      ]
     },
     "execution_count": 4,
     "metadata": {},
     "output_type": "execute_result"
    }
   ],
   "source": [
    "#pengecekan nilai null pada data\n",
    "data.isnull().sum()"
   ]
  },
  {
   "cell_type": "code",
   "execution_count": 5,
   "metadata": {},
   "outputs": [],
   "source": [
    "#penghapusan null value dengan menggunakan fillna\n",
    "data['Book_series'] = data['Book_series'].fillna(data['Book_series'].mode().iloc[0])\n",
    "data['book_series_url'] = data['book_series_url'].fillna(data['book_series_url'].mode().iloc[0])\n",
    "data['book_image'] = data['book_image'].fillna(data['book_image'].mode().iloc[0])\n",
    "data['book_image_url'] = data['book_image_url'].fillna(data['book_image_url'].mode().iloc[0])\n",
    "data['genre'] = data['genre'].fillna(data['genre'].mode().iloc[0])\n",
    "data['reviewer_name'] = data['reviewer_name'].fillna(data['reviewer_name'].mode().iloc[0])\n",
    "data['reviewer_url'] = data['reviewer_url'].fillna(data['reviewer_url'].mode().iloc[0])\n",
    "data['reviewer_image'] = data['reviewer_image'].fillna(data['reviewer_image'].mode().iloc[0])\n",
    "data['reviewer_image_url'] = data['reviewer_image_url'].fillna(data['reviewer_image_url'].mode().iloc[0])\n",
    "data['review'] = data['review'].fillna(data['review'].mode().iloc[0])"
   ]
  },
  {
   "cell_type": "code",
   "execution_count": 6,
   "metadata": {},
   "outputs": [
    {
     "data": {
      "text/plain": [
       "book_title            0\n",
       "Book_series           0\n",
       "book_series_url       0\n",
       "book_image            0\n",
       "book_image_url        0\n",
       "book_rating           0\n",
       "book_author           0\n",
       "author_url            0\n",
       "genre                 0\n",
       "reviewer_name         0\n",
       "reviewer_url          0\n",
       "reviewer_image        0\n",
       "reviewer_image_url    0\n",
       "review                0\n",
       "ID                    0\n",
       "dtype: int64"
      ]
     },
     "execution_count": 6,
     "metadata": {},
     "output_type": "execute_result"
    }
   ],
   "source": [
    "#pengecekan data setelah drop null value\n",
    "data.isnull().sum()"
   ]
  },
  {
   "cell_type": "markdown",
   "metadata": {},
   "source": [
    "### Drop Duplicate Value"
   ]
  },
  {
   "cell_type": "code",
   "execution_count": 7,
   "metadata": {},
   "outputs": [
    {
     "data": {
      "text/plain": [
       "0"
      ]
     },
     "execution_count": 7,
     "metadata": {},
     "output_type": "execute_result"
    }
   ],
   "source": [
    "#pengecekan duplicate value \n",
    "data.duplicated().sum()"
   ]
  },
  {
   "cell_type": "code",
   "execution_count": 8,
   "metadata": {},
   "outputs": [
    {
     "data": {
      "text/html": [
       "<div>\n",
       "<style scoped>\n",
       "    .dataframe tbody tr th:only-of-type {\n",
       "        vertical-align: middle;\n",
       "    }\n",
       "\n",
       "    .dataframe tbody tr th {\n",
       "        vertical-align: top;\n",
       "    }\n",
       "\n",
       "    .dataframe thead th {\n",
       "        text-align: right;\n",
       "    }\n",
       "</style>\n",
       "<table border=\"1\" class=\"dataframe\">\n",
       "  <thead>\n",
       "    <tr style=\"text-align: right;\">\n",
       "      <th></th>\n",
       "      <th>book_title</th>\n",
       "      <th>Book_series</th>\n",
       "      <th>book_series_url</th>\n",
       "      <th>book_image</th>\n",
       "      <th>book_image_url</th>\n",
       "      <th>book_rating</th>\n",
       "      <th>book_author</th>\n",
       "      <th>author_url</th>\n",
       "      <th>genre</th>\n",
       "      <th>reviewer_name</th>\n",
       "      <th>reviewer_url</th>\n",
       "      <th>reviewer_image</th>\n",
       "      <th>reviewer_image_url</th>\n",
       "      <th>review</th>\n",
       "      <th>ID</th>\n",
       "    </tr>\n",
       "  </thead>\n",
       "  <tbody>\n",
       "    <tr>\n",
       "      <th>0</th>\n",
       "      <td>A Court of Wings and Ruin</td>\n",
       "      <td>(A Court of Thorns and Roses #3)</td>\n",
       "      <td>https://www.goodreads.com/series/104014-a-cour...</td>\n",
       "      <td>https://images.gr-assets.com/books/1485528243l...</td>\n",
       "      <td>https://www.goodreads.com/book/photo/23766634-...</td>\n",
       "      <td>4.51</td>\n",
       "      <td>Sarah J. Maas</td>\n",
       "      <td>https://www.goodreads.com/author/show/3433047....</td>\n",
       "      <td>Fantasy, Romance, Young Adult, New Adult</td>\n",
       "      <td>emma</td>\n",
       "      <td>https://www.goodreads.com/user/show/32879029-emma</td>\n",
       "      <td>https://images.gr-assets.com/users/1520568130p...</td>\n",
       "      <td>https://www.goodreads.com/user/show/32879029-emma</td>\n",
       "      <td>202.\\r\\nThat’s the number of times that the wo...</td>\n",
       "      <td>1</td>\n",
       "    </tr>\n",
       "    <tr>\n",
       "      <th>1</th>\n",
       "      <td>A Court of Wings and Ruin</td>\n",
       "      <td>(A Court of Thorns and Roses #3)</td>\n",
       "      <td>https://www.goodreads.com/series/104014-a-cour...</td>\n",
       "      <td>https://images.gr-assets.com/books/1485528243l...</td>\n",
       "      <td>https://www.goodreads.com/book/photo/23766634-...</td>\n",
       "      <td>4.51</td>\n",
       "      <td>Sarah J. Maas</td>\n",
       "      <td>https://www.goodreads.com/author/show/3433047....</td>\n",
       "      <td>Fantasy, Romance, Young Adult, New Adult</td>\n",
       "      <td>Em (RunawayWithDreamthieves)</td>\n",
       "      <td>https://www.goodreads.com/user/show/42130592-e...</td>\n",
       "      <td>https://images.gr-assets.com/users/1538507799p...</td>\n",
       "      <td>https://www.goodreads.com/user/show/42130592-e...</td>\n",
       "      <td>I need a black silk robe and a balcony to wear...</td>\n",
       "      <td>2</td>\n",
       "    </tr>\n",
       "    <tr>\n",
       "      <th>2</th>\n",
       "      <td>A Court of Wings and Ruin</td>\n",
       "      <td>(A Court of Thorns and Roses #3)</td>\n",
       "      <td>https://www.goodreads.com/series/104014-a-cour...</td>\n",
       "      <td>https://images.gr-assets.com/books/1485528243l...</td>\n",
       "      <td>https://www.goodreads.com/book/photo/23766634-...</td>\n",
       "      <td>4.51</td>\n",
       "      <td>Sarah J. Maas</td>\n",
       "      <td>https://www.goodreads.com/author/show/3433047....</td>\n",
       "      <td>Fantasy, Romance, Young Adult, New Adult</td>\n",
       "      <td>Cait • A Page with a View</td>\n",
       "      <td>https://www.goodreads.com/user/show/47412532-c...</td>\n",
       "      <td>https://images.gr-assets.com/users/1523134490p...</td>\n",
       "      <td>https://www.goodreads.com/user/show/47412532-c...</td>\n",
       "      <td>THIS BOOK TOTALLY WRECKED ME. In the best poss...</td>\n",
       "      <td>3</td>\n",
       "    </tr>\n",
       "    <tr>\n",
       "      <th>3</th>\n",
       "      <td>A Court of Wings and Ruin</td>\n",
       "      <td>(A Court of Thorns and Roses #3)</td>\n",
       "      <td>https://www.goodreads.com/series/104014-a-cour...</td>\n",
       "      <td>https://images.gr-assets.com/books/1485528243l...</td>\n",
       "      <td>https://www.goodreads.com/book/photo/23766634-...</td>\n",
       "      <td>4.51</td>\n",
       "      <td>Sarah J. Maas</td>\n",
       "      <td>https://www.goodreads.com/author/show/3433047....</td>\n",
       "      <td>Fantasy, Romance, Young Adult, New Adult</td>\n",
       "      <td>Natalie Monroe</td>\n",
       "      <td>https://www.goodreads.com/user/show/6688207-na...</td>\n",
       "      <td>https://images.gr-assets.com/users/1339730817p...</td>\n",
       "      <td>https://www.goodreads.com/user/show/6688207-na...</td>\n",
       "      <td>3.75 stars\\r\\n\"Rhys stepped off the stairs and...</td>\n",
       "      <td>4</td>\n",
       "    </tr>\n",
       "    <tr>\n",
       "      <th>4</th>\n",
       "      <td>A Court of Wings and Ruin</td>\n",
       "      <td>(A Court of Thorns and Roses #3)</td>\n",
       "      <td>https://www.goodreads.com/series/104014-a-cour...</td>\n",
       "      <td>https://images.gr-assets.com/books/1485528243l...</td>\n",
       "      <td>https://www.goodreads.com/book/photo/23766634-...</td>\n",
       "      <td>4.51</td>\n",
       "      <td>Sarah J. Maas</td>\n",
       "      <td>https://www.goodreads.com/author/show/3433047....</td>\n",
       "      <td>Fantasy, Romance, Young Adult, New Adult</td>\n",
       "      <td>Emily May</td>\n",
       "      <td>https://www.goodreads.com/user/show/4622890-em...</td>\n",
       "      <td>https://images.gr-assets.com/users/1528390751p...</td>\n",
       "      <td>https://www.goodreads.com/user/show/4622890-em...</td>\n",
       "      <td>I wish so much that I could tell you I loved t...</td>\n",
       "      <td>5</td>\n",
       "    </tr>\n",
       "  </tbody>\n",
       "</table>\n",
       "</div>"
      ],
      "text/plain": [
       "                  book_title                       Book_series  \\\n",
       "0  A Court of Wings and Ruin  (A Court of Thorns and Roses #3)   \n",
       "1  A Court of Wings and Ruin  (A Court of Thorns and Roses #3)   \n",
       "2  A Court of Wings and Ruin  (A Court of Thorns and Roses #3)   \n",
       "3  A Court of Wings and Ruin  (A Court of Thorns and Roses #3)   \n",
       "4  A Court of Wings and Ruin  (A Court of Thorns and Roses #3)   \n",
       "\n",
       "                                     book_series_url  \\\n",
       "0  https://www.goodreads.com/series/104014-a-cour...   \n",
       "1  https://www.goodreads.com/series/104014-a-cour...   \n",
       "2  https://www.goodreads.com/series/104014-a-cour...   \n",
       "3  https://www.goodreads.com/series/104014-a-cour...   \n",
       "4  https://www.goodreads.com/series/104014-a-cour...   \n",
       "\n",
       "                                          book_image  \\\n",
       "0  https://images.gr-assets.com/books/1485528243l...   \n",
       "1  https://images.gr-assets.com/books/1485528243l...   \n",
       "2  https://images.gr-assets.com/books/1485528243l...   \n",
       "3  https://images.gr-assets.com/books/1485528243l...   \n",
       "4  https://images.gr-assets.com/books/1485528243l...   \n",
       "\n",
       "                                      book_image_url  book_rating  \\\n",
       "0  https://www.goodreads.com/book/photo/23766634-...         4.51   \n",
       "1  https://www.goodreads.com/book/photo/23766634-...         4.51   \n",
       "2  https://www.goodreads.com/book/photo/23766634-...         4.51   \n",
       "3  https://www.goodreads.com/book/photo/23766634-...         4.51   \n",
       "4  https://www.goodreads.com/book/photo/23766634-...         4.51   \n",
       "\n",
       "     book_author                                         author_url  \\\n",
       "0  Sarah J. Maas  https://www.goodreads.com/author/show/3433047....   \n",
       "1  Sarah J. Maas  https://www.goodreads.com/author/show/3433047....   \n",
       "2  Sarah J. Maas  https://www.goodreads.com/author/show/3433047....   \n",
       "3  Sarah J. Maas  https://www.goodreads.com/author/show/3433047....   \n",
       "4  Sarah J. Maas  https://www.goodreads.com/author/show/3433047....   \n",
       "\n",
       "                                      genre                 reviewer_name  \\\n",
       "0  Fantasy, Romance, Young Adult, New Adult                          emma   \n",
       "1  Fantasy, Romance, Young Adult, New Adult  Em (RunawayWithDreamthieves)   \n",
       "2  Fantasy, Romance, Young Adult, New Adult     Cait • A Page with a View   \n",
       "3  Fantasy, Romance, Young Adult, New Adult                Natalie Monroe   \n",
       "4  Fantasy, Romance, Young Adult, New Adult                     Emily May   \n",
       "\n",
       "                                        reviewer_url  \\\n",
       "0  https://www.goodreads.com/user/show/32879029-emma   \n",
       "1  https://www.goodreads.com/user/show/42130592-e...   \n",
       "2  https://www.goodreads.com/user/show/47412532-c...   \n",
       "3  https://www.goodreads.com/user/show/6688207-na...   \n",
       "4  https://www.goodreads.com/user/show/4622890-em...   \n",
       "\n",
       "                                      reviewer_image  \\\n",
       "0  https://images.gr-assets.com/users/1520568130p...   \n",
       "1  https://images.gr-assets.com/users/1538507799p...   \n",
       "2  https://images.gr-assets.com/users/1523134490p...   \n",
       "3  https://images.gr-assets.com/users/1339730817p...   \n",
       "4  https://images.gr-assets.com/users/1528390751p...   \n",
       "\n",
       "                                  reviewer_image_url  \\\n",
       "0  https://www.goodreads.com/user/show/32879029-emma   \n",
       "1  https://www.goodreads.com/user/show/42130592-e...   \n",
       "2  https://www.goodreads.com/user/show/47412532-c...   \n",
       "3  https://www.goodreads.com/user/show/6688207-na...   \n",
       "4  https://www.goodreads.com/user/show/4622890-em...   \n",
       "\n",
       "                                              review  ID  \n",
       "0  202.\\r\\nThat’s the number of times that the wo...   1  \n",
       "1  I need a black silk robe and a balcony to wear...   2  \n",
       "2  THIS BOOK TOTALLY WRECKED ME. In the best poss...   3  \n",
       "3  3.75 stars\\r\\n\"Rhys stepped off the stairs and...   4  \n",
       "4  I wish so much that I could tell you I loved t...   5  "
      ]
     },
     "execution_count": 8,
     "metadata": {},
     "output_type": "execute_result"
    }
   ],
   "source": [
    "#menampilkan 5 data teratas yang sudah di cek duplicate value\n",
    "data['book_title'].drop_duplicates(keep=False,inplace=True)\n",
    "data.head()"
   ]
  },
  {
   "cell_type": "markdown",
   "metadata": {},
   "source": [
    "## 3. Data Preprocessing"
   ]
  },
  {
   "cell_type": "markdown",
   "metadata": {},
   "source": [
    "### Case Folding"
   ]
  },
  {
   "cell_type": "markdown",
   "metadata": {},
   "source": [
    "Proses untuk melakukan konversi seluruh karakter ke dalam huruf kecil"
   ]
  },
  {
   "cell_type": "code",
   "execution_count": 9,
   "metadata": {},
   "outputs": [
    {
     "data": {
      "text/plain": [
       "0    202.\\r\\nthat’s the number of times that the wo...\n",
       "1    i need a black silk robe and a balcony to wear...\n",
       "2    this book totally wrecked me. in the best poss...\n",
       "3    3.75 stars\\r\\n\"rhys stepped off the stairs and...\n",
       "4    i wish so much that i could tell you i loved t...\n",
       "Name: lower, dtype: object"
      ]
     },
     "execution_count": 9,
     "metadata": {},
     "output_type": "execute_result"
    }
   ],
   "source": [
    "#mengubah huruf kapital menjadi huruf kecil yang ditampung pada parameter \"lower\"\n",
    "review = []\n",
    "for i in range(0, 21559):\n",
    "    review.append(data[\"review\"][i].casefold())\n",
    "    \n",
    "data['lower'] = review\n",
    "data['lower'].head()"
   ]
  },
  {
   "cell_type": "markdown",
   "metadata": {},
   "source": [
    "### Remove Punctuation"
   ]
  },
  {
   "cell_type": "code",
   "execution_count": 10,
   "metadata": {},
   "outputs": [],
   "source": [
    "#menghilangkan tanda baca dan ditampung oleh atribut baru yaitu \"no_punc\"\n",
    "review = []\n",
    "for i in range(0, 21559):\n",
    "    review.append(repr(data[\"lower\"][i].replace(\",\", \"\").replace(\"\\n\", \"\")\n",
    "                                       .replace(\"\\r\", \"\").replace(\"---\", \"\")\n",
    "                                       .replace('|','').replace(\"!\",\"\")\n",
    "                                       .replace(\"//\", \"\").replace(\"?\",\"\")\n",
    "                                       .replace(\"    \", \" \").replace(\"  \",\" \")))"
   ]
  },
  {
   "cell_type": "code",
   "execution_count": 11,
   "metadata": {},
   "outputs": [
    {
     "data": {
      "text/html": [
       "<div>\n",
       "<style scoped>\n",
       "    .dataframe tbody tr th:only-of-type {\n",
       "        vertical-align: middle;\n",
       "    }\n",
       "\n",
       "    .dataframe tbody tr th {\n",
       "        vertical-align: top;\n",
       "    }\n",
       "\n",
       "    .dataframe thead th {\n",
       "        text-align: right;\n",
       "    }\n",
       "</style>\n",
       "<table border=\"1\" class=\"dataframe\">\n",
       "  <thead>\n",
       "    <tr style=\"text-align: right;\">\n",
       "      <th></th>\n",
       "      <th>book_title</th>\n",
       "      <th>book_rating</th>\n",
       "      <th>genre</th>\n",
       "      <th>no_punc</th>\n",
       "    </tr>\n",
       "  </thead>\n",
       "  <tbody>\n",
       "    <tr>\n",
       "      <th>0</th>\n",
       "      <td>A Court of Wings and Ruin</td>\n",
       "      <td>4.51</td>\n",
       "      <td>Fantasy, Romance, Young Adult, New Adult</td>\n",
       "      <td>\"202 that’s the number of times that the word ...</td>\n",
       "    </tr>\n",
       "    <tr>\n",
       "      <th>1</th>\n",
       "      <td>A Court of Wings and Ruin</td>\n",
       "      <td>4.51</td>\n",
       "      <td>Fantasy, Romance, Young Adult, New Adult</td>\n",
       "      <td>'i need a black silk robe and a balcony to wea...</td>\n",
       "    </tr>\n",
       "    <tr>\n",
       "      <th>2</th>\n",
       "      <td>A Court of Wings and Ruin</td>\n",
       "      <td>4.51</td>\n",
       "      <td>Fantasy, Romance, Young Adult, New Adult</td>\n",
       "      <td>'this book totally wrecked me in the best poss...</td>\n",
       "    </tr>\n",
       "    <tr>\n",
       "      <th>3</th>\n",
       "      <td>A Court of Wings and Ruin</td>\n",
       "      <td>4.51</td>\n",
       "      <td>Fantasy, Romance, Young Adult, New Adult</td>\n",
       "      <td>'5 stars\"rhys stepped off the stairs and took ...</td>\n",
       "    </tr>\n",
       "    <tr>\n",
       "      <th>4</th>\n",
       "      <td>A Court of Wings and Ruin</td>\n",
       "      <td>4.51</td>\n",
       "      <td>Fantasy, Romance, Young Adult, New Adult</td>\n",
       "      <td>'i wish so much that i could tell you i loved ...</td>\n",
       "    </tr>\n",
       "  </tbody>\n",
       "</table>\n",
       "</div>"
      ],
      "text/plain": [
       "                  book_title  book_rating  \\\n",
       "0  A Court of Wings and Ruin         4.51   \n",
       "1  A Court of Wings and Ruin         4.51   \n",
       "2  A Court of Wings and Ruin         4.51   \n",
       "3  A Court of Wings and Ruin         4.51   \n",
       "4  A Court of Wings and Ruin         4.51   \n",
       "\n",
       "                                      genre  \\\n",
       "0  Fantasy, Romance, Young Adult, New Adult   \n",
       "1  Fantasy, Romance, Young Adult, New Adult   \n",
       "2  Fantasy, Romance, Young Adult, New Adult   \n",
       "3  Fantasy, Romance, Young Adult, New Adult   \n",
       "4  Fantasy, Romance, Young Adult, New Adult   \n",
       "\n",
       "                                             no_punc  \n",
       "0  \"202 that’s the number of times that the word ...  \n",
       "1  'i need a black silk robe and a balcony to wea...  \n",
       "2  'this book totally wrecked me in the best poss...  \n",
       "3  '5 stars\"rhys stepped off the stairs and took ...  \n",
       "4  'i wish so much that i could tell you i loved ...  "
      ]
     },
     "execution_count": 11,
     "metadata": {},
     "output_type": "execute_result"
    }
   ],
   "source": [
    "reviews = []\n",
    "for i in review:\n",
    "    review = re.sub(r'\\ by.*? on', \"\", i)\n",
    "    review = re.sub(r\"\\d\\.\\d\", \"\", review)\n",
    "    review = re.sub(r\"\\d+\\ [a-z]+\\.*\\ \\d+\", \"\", review)\n",
    "    review = review.replace(\".\", \" \")\n",
    "    review = re.sub(r'\\  *', \" \", review)\n",
    "    reviews.append(review)\n",
    "    \n",
    "data[\"no_punc\"] = reviews\n",
    "data[[\"book_title\", \"book_rating\", \"genre\", \"no_punc\"]].head()"
   ]
  },
  {
   "cell_type": "markdown",
   "metadata": {},
   "source": [
    "Data yang sudah dilakukan preprocessing akan disimpan menjadi data baru dalam file DataBuku.csv"
   ]
  },
  {
   "cell_type": "code",
   "execution_count": 12,
   "metadata": {},
   "outputs": [],
   "source": [
    "new = data[[\"ID\", \"book_title\", \"book_rating\", \"genre\", \"no_punc\"]]\n",
    "new.to_csv(\"./DataBuku.csv\")"
   ]
  },
  {
   "cell_type": "code",
   "execution_count": 13,
   "metadata": {},
   "outputs": [
    {
     "data": {
      "text/html": [
       "<div>\n",
       "<style scoped>\n",
       "    .dataframe tbody tr th:only-of-type {\n",
       "        vertical-align: middle;\n",
       "    }\n",
       "\n",
       "    .dataframe tbody tr th {\n",
       "        vertical-align: top;\n",
       "    }\n",
       "\n",
       "    .dataframe thead th {\n",
       "        text-align: right;\n",
       "    }\n",
       "</style>\n",
       "<table border=\"1\" class=\"dataframe\">\n",
       "  <thead>\n",
       "    <tr style=\"text-align: right;\">\n",
       "      <th></th>\n",
       "      <th>Unnamed: 0</th>\n",
       "      <th>ID</th>\n",
       "      <th>book_title</th>\n",
       "      <th>book_rating</th>\n",
       "      <th>genre</th>\n",
       "      <th>no_punc</th>\n",
       "    </tr>\n",
       "  </thead>\n",
       "  <tbody>\n",
       "    <tr>\n",
       "      <th>0</th>\n",
       "      <td>0</td>\n",
       "      <td>1</td>\n",
       "      <td>A Court of Wings and Ruin</td>\n",
       "      <td>4.51</td>\n",
       "      <td>Fantasy, Romance, Young Adult, New Adult</td>\n",
       "      <td>\"202 that’s the number of times that the word ...</td>\n",
       "    </tr>\n",
       "    <tr>\n",
       "      <th>1</th>\n",
       "      <td>1</td>\n",
       "      <td>2</td>\n",
       "      <td>A Court of Wings and Ruin</td>\n",
       "      <td>4.51</td>\n",
       "      <td>Fantasy, Romance, Young Adult, New Adult</td>\n",
       "      <td>'i need a black silk robe and a balcony to wea...</td>\n",
       "    </tr>\n",
       "    <tr>\n",
       "      <th>2</th>\n",
       "      <td>2</td>\n",
       "      <td>3</td>\n",
       "      <td>A Court of Wings and Ruin</td>\n",
       "      <td>4.51</td>\n",
       "      <td>Fantasy, Romance, Young Adult, New Adult</td>\n",
       "      <td>'this book totally wrecked me in the best poss...</td>\n",
       "    </tr>\n",
       "    <tr>\n",
       "      <th>3</th>\n",
       "      <td>3</td>\n",
       "      <td>4</td>\n",
       "      <td>A Court of Wings and Ruin</td>\n",
       "      <td>4.51</td>\n",
       "      <td>Fantasy, Romance, Young Adult, New Adult</td>\n",
       "      <td>'5 stars\"rhys stepped off the stairs and took ...</td>\n",
       "    </tr>\n",
       "    <tr>\n",
       "      <th>4</th>\n",
       "      <td>4</td>\n",
       "      <td>5</td>\n",
       "      <td>A Court of Wings and Ruin</td>\n",
       "      <td>4.51</td>\n",
       "      <td>Fantasy, Romance, Young Adult, New Adult</td>\n",
       "      <td>'i wish so much that i could tell you i loved ...</td>\n",
       "    </tr>\n",
       "  </tbody>\n",
       "</table>\n",
       "</div>"
      ],
      "text/plain": [
       "   Unnamed: 0  ID                 book_title  book_rating  \\\n",
       "0           0   1  A Court of Wings and Ruin         4.51   \n",
       "1           1   2  A Court of Wings and Ruin         4.51   \n",
       "2           2   3  A Court of Wings and Ruin         4.51   \n",
       "3           3   4  A Court of Wings and Ruin         4.51   \n",
       "4           4   5  A Court of Wings and Ruin         4.51   \n",
       "\n",
       "                                      genre  \\\n",
       "0  Fantasy, Romance, Young Adult, New Adult   \n",
       "1  Fantasy, Romance, Young Adult, New Adult   \n",
       "2  Fantasy, Romance, Young Adult, New Adult   \n",
       "3  Fantasy, Romance, Young Adult, New Adult   \n",
       "4  Fantasy, Romance, Young Adult, New Adult   \n",
       "\n",
       "                                             no_punc  \n",
       "0  \"202 that’s the number of times that the word ...  \n",
       "1  'i need a black silk robe and a balcony to wea...  \n",
       "2  'this book totally wrecked me in the best poss...  \n",
       "3  '5 stars\"rhys stepped off the stairs and took ...  \n",
       "4  'i wish so much that i could tell you i loved ...  "
      ]
     },
     "execution_count": 13,
     "metadata": {},
     "output_type": "execute_result"
    }
   ],
   "source": [
    "dataset = pd.read_csv(\"./Databuku.csv\", delimiter=\",\")\n",
    "dataset.head()"
   ]
  },
  {
   "cell_type": "markdown",
   "metadata": {},
   "source": [
    "### Tokenization"
   ]
  },
  {
   "cell_type": "code",
   "execution_count": 14,
   "metadata": {},
   "outputs": [
    {
     "data": {
      "text/plain": [
       "0    [\"202, that’s, the, number, of, times, that, t...\n",
       "1    ['i, need, a, black, silk, robe, and, a, balco...\n",
       "2    ['this, book, totally, wrecked, me, in, the, b...\n",
       "3    ['5, stars\"rhys, stepped, off, the, stairs, an...\n",
       "4    ['i, wish, so, much, that, i, could, tell, you...\n",
       "Name: tokenized, dtype: object"
      ]
     },
     "execution_count": 14,
     "metadata": {},
     "output_type": "execute_result"
    }
   ],
   "source": [
    "#melakukan tokenisasi pada atribut \"review\" yang ditampung dalam parameter \"tokenized\"\n",
    "from nltk.tokenize import SpaceTokenizer\n",
    "sTokenizer = SpaceTokenizer()\n",
    "review_tokens = []\n",
    "for i in dataset['no_punc']:\n",
    "    review_tokens.append(sTokenizer.tokenize(i))\n",
    "    \n",
    "dataset['tokenized'] = review_tokens\n",
    "dataset['tokenized'].head()"
   ]
  },
  {
   "cell_type": "code",
   "execution_count": 15,
   "metadata": {},
   "outputs": [
    {
     "data": {
      "text/html": [
       "<div>\n",
       "<style scoped>\n",
       "    .dataframe tbody tr th:only-of-type {\n",
       "        vertical-align: middle;\n",
       "    }\n",
       "\n",
       "    .dataframe tbody tr th {\n",
       "        vertical-align: top;\n",
       "    }\n",
       "\n",
       "    .dataframe thead th {\n",
       "        text-align: right;\n",
       "    }\n",
       "</style>\n",
       "<table border=\"1\" class=\"dataframe\">\n",
       "  <thead>\n",
       "    <tr style=\"text-align: right;\">\n",
       "      <th></th>\n",
       "      <th>ID</th>\n",
       "      <th>book_title</th>\n",
       "      <th>book_rating</th>\n",
       "      <th>genre</th>\n",
       "      <th>review_vocabs</th>\n",
       "    </tr>\n",
       "  </thead>\n",
       "  <tbody>\n",
       "    <tr>\n",
       "      <th>0</th>\n",
       "      <td>1</td>\n",
       "      <td>A Court of Wings and Ruin</td>\n",
       "      <td>4.51</td>\n",
       "      <td>Fantasy, Romance, Young Adult, New Adult</td>\n",
       "      <td>{catch, bored, saintly, clear, fifteen, body, ...</td>\n",
       "    </tr>\n",
       "    <tr>\n",
       "      <th>1</th>\n",
       "      <td>2</td>\n",
       "      <td>A Court of Wings and Ruin</td>\n",
       "      <td>4.51</td>\n",
       "      <td>Fantasy, Romance, Young Adult, New Adult</td>\n",
       "      <td>{flaws, resurrected, making, hooo, underdevelo...</td>\n",
       "    </tr>\n",
       "    <tr>\n",
       "      <th>2</th>\n",
       "      <td>3</td>\n",
       "      <td>A Court of Wings and Ruin</td>\n",
       "      <td>4.51</td>\n",
       "      <td>Fantasy, Romance, Young Adult, New Adult</td>\n",
       "      <td>{acomaf, past, accountable, clear, making, he,...</td>\n",
       "    </tr>\n",
       "    <tr>\n",
       "      <th>3</th>\n",
       "      <td>4</td>\n",
       "      <td>A Court of Wings and Ruin</td>\n",
       "      <td>4.51</td>\n",
       "      <td>Fantasy, Romance, Young Adult, New Adult</td>\n",
       "      <td>{rated, tortured, acomaf, forgiving, bitched, ...</td>\n",
       "    </tr>\n",
       "    <tr>\n",
       "      <th>4</th>\n",
       "      <td>5</td>\n",
       "      <td>A Court of Wings and Ruin</td>\n",
       "      <td>4.51</td>\n",
       "      <td>Fantasy, Romance, Young Adult, New Adult</td>\n",
       "      <td>{dude, series, four, i\\'d, unsexy, liked, touc...</td>\n",
       "    </tr>\n",
       "  </tbody>\n",
       "</table>\n",
       "</div>"
      ],
      "text/plain": [
       "   ID                 book_title  book_rating  \\\n",
       "0   1  A Court of Wings and Ruin         4.51   \n",
       "1   2  A Court of Wings and Ruin         4.51   \n",
       "2   3  A Court of Wings and Ruin         4.51   \n",
       "3   4  A Court of Wings and Ruin         4.51   \n",
       "4   5  A Court of Wings and Ruin         4.51   \n",
       "\n",
       "                                      genre  \\\n",
       "0  Fantasy, Romance, Young Adult, New Adult   \n",
       "1  Fantasy, Romance, Young Adult, New Adult   \n",
       "2  Fantasy, Romance, Young Adult, New Adult   \n",
       "3  Fantasy, Romance, Young Adult, New Adult   \n",
       "4  Fantasy, Romance, Young Adult, New Adult   \n",
       "\n",
       "                                       review_vocabs  \n",
       "0  {catch, bored, saintly, clear, fifteen, body, ...  \n",
       "1  {flaws, resurrected, making, hooo, underdevelo...  \n",
       "2  {acomaf, past, accountable, clear, making, he,...  \n",
       "3  {rated, tortured, acomaf, forgiving, bitched, ...  \n",
       "4  {dude, series, four, i\\'d, unsexy, liked, touc...  "
      ]
     },
     "execution_count": 15,
     "metadata": {},
     "output_type": "execute_result"
    }
   ],
   "source": [
    "vocab = []\n",
    "for i in dataset['tokenized']:\n",
    "    vocab.append(set(i))\n",
    "    \n",
    "dataset['review_vocabs'] = vocab\n",
    "dataset[[\"ID\", \"book_title\", \"book_rating\", \"genre\", \"review_vocabs\"]].head()"
   ]
  },
  {
   "cell_type": "markdown",
   "metadata": {},
   "source": [
    "## 4. Word Embedding with Word2Vec"
   ]
  },
  {
   "cell_type": "code",
   "execution_count": 16,
   "metadata": {},
   "outputs": [],
   "source": [
    "word2vec_sg = Word2Vec(sentences=dataset['review_vocabs'],\n",
    "                       size=100, window=5, min_count=1,\n",
    "                       workers=4, sg=1, iter=10)"
   ]
  },
  {
   "cell_type": "code",
   "execution_count": 17,
   "metadata": {},
   "outputs": [
    {
     "data": {
      "text/plain": [
       "0.16326395"
      ]
     },
     "execution_count": 17,
     "metadata": {},
     "output_type": "execute_result"
    }
   ],
   "source": [
    "word2vec_sg.wv.similarity(w1=\"great\",w2=\"good\")"
   ]
  },
  {
   "cell_type": "code",
   "execution_count": 18,
   "metadata": {},
   "outputs": [
    {
     "data": {
      "text/plain": [
       "[('covers', 0.8304151296615601),\n",
       " ('female', 0.8221045732498169),\n",
       " ('myself', 0.810004472732544),\n",
       " ('returns', 0.8085720539093018),\n",
       " ('crafted', 0.8051140308380127),\n",
       " ('without', 0.802668035030365)]"
      ]
     },
     "execution_count": 18,
     "metadata": {},
     "output_type": "execute_result"
    }
   ],
   "source": [
    "w1 = [\"great\"]\n",
    "word2vec_sg.wv.most_similar (positive=w1,topn=6)"
   ]
  },
  {
   "cell_type": "code",
   "execution_count": 19,
   "metadata": {},
   "outputs": [
    {
     "data": {
      "text/plain": [
       "[('traveler', 0.8046613931655884),\n",
       " ('dirt', 0.8032265901565552),\n",
       " ('gaps', 0.8004559278488159),\n",
       " ('ite', 0.7993450164794922),\n",
       " ('excitement', 0.7959198951721191),\n",
       " ('newest', 0.7954776287078857),\n",
       " ('\"holy', 0.7953488826751709),\n",
       " ('cindy', 0.7942132949829102),\n",
       " ('tag', 0.7898304462432861),\n",
       " (\"white's\", 0.7896919250488281)]"
      ]
     },
     "execution_count": 19,
     "metadata": {},
     "output_type": "execute_result"
    }
   ],
   "source": [
    "w1 = [\"good\",'fun','great']\n",
    "w2 = ['bad']\n",
    "word2vec_sg.wv.most_similar (positive=w1,negative=w2,topn=10)"
   ]
  },
  {
   "cell_type": "code",
   "execution_count": 20,
   "metadata": {},
   "outputs": [
    {
     "data": {
      "text/plain": [
       "1.0"
      ]
     },
     "execution_count": 20,
     "metadata": {},
     "output_type": "execute_result"
    }
   ],
   "source": [
    "word2vec_sg.wv.similarity(w1=\"good\",w2=\"good\")"
   ]
  },
  {
   "cell_type": "code",
   "execution_count": 21,
   "metadata": {},
   "outputs": [],
   "source": [
    "word2vec_sg.save(\"word2vec_model\")\n",
    "w2v = Word2Vec.load(\"word2vec_model\")"
   ]
  },
  {
   "cell_type": "code",
   "execution_count": 22,
   "metadata": {},
   "outputs": [],
   "source": [
    "book_data = []\n",
    "for key,book in enumerate(dataset['review_vocabs']):\n",
    "    if len(book) == 0:\n",
    "        print(book, key)\n",
    "    feature_vector = np.zeros((100,), dtype=\"float32\")\n",
    "    nwords = len(book)\n",
    "    for token in book:\n",
    "        feature_vector = np.add(feature_vector, w2v[token])\n",
    "    \n",
    "    feature_vector = np.divide(feature_vector, nwords)\n",
    "    book_data.append({'book': dataset['book_title'][key],\n",
    "                      'tags':book, 'vector':feature_vector})"
   ]
  },
  {
   "cell_type": "code",
   "execution_count": 23,
   "metadata": {},
   "outputs": [
    {
     "data": {
      "text/html": [
       "<div>\n",
       "<style scoped>\n",
       "    .dataframe tbody tr th:only-of-type {\n",
       "        vertical-align: middle;\n",
       "    }\n",
       "\n",
       "    .dataframe tbody tr th {\n",
       "        vertical-align: top;\n",
       "    }\n",
       "\n",
       "    .dataframe thead th {\n",
       "        text-align: right;\n",
       "    }\n",
       "</style>\n",
       "<table border=\"1\" class=\"dataframe\">\n",
       "  <thead>\n",
       "    <tr style=\"text-align: right;\">\n",
       "      <th></th>\n",
       "      <th>book</th>\n",
       "      <th>tags</th>\n",
       "      <th>vector</th>\n",
       "    </tr>\n",
       "  </thead>\n",
       "  <tbody>\n",
       "    <tr>\n",
       "      <th>0</th>\n",
       "      <td>A Court of Wings and Ruin</td>\n",
       "      <td>{catch, bored, saintly, clear, fifteen, body, ...</td>\n",
       "      <td>[-0.006830589, 0.021674452, 0.27633604, -0.020...</td>\n",
       "    </tr>\n",
       "    <tr>\n",
       "      <th>1</th>\n",
       "      <td>A Court of Wings and Ruin</td>\n",
       "      <td>{flaws, resurrected, making, hooo, underdevelo...</td>\n",
       "      <td>[-0.012094354, 0.004298231, 0.2486076, -0.0332...</td>\n",
       "    </tr>\n",
       "    <tr>\n",
       "      <th>2</th>\n",
       "      <td>A Court of Wings and Ruin</td>\n",
       "      <td>{acomaf, past, accountable, clear, making, he,...</td>\n",
       "      <td>[-0.020606145, 0.020622712, 0.2896416, -0.0146...</td>\n",
       "    </tr>\n",
       "    <tr>\n",
       "      <th>3</th>\n",
       "      <td>A Court of Wings and Ruin</td>\n",
       "      <td>{rated, tortured, acomaf, forgiving, bitched, ...</td>\n",
       "      <td>[-0.017666489, 0.025592921, 0.26792833, -0.028...</td>\n",
       "    </tr>\n",
       "    <tr>\n",
       "      <th>4</th>\n",
       "      <td>A Court of Wings and Ruin</td>\n",
       "      <td>{dude, series, four, i\\'d, unsexy, liked, touc...</td>\n",
       "      <td>[-0.03757106, -0.026826343, 0.28536475, -0.003...</td>\n",
       "    </tr>\n",
       "    <tr>\n",
       "      <th>5</th>\n",
       "      <td>A Court of Wings and Ruin</td>\n",
       "      <td>{series, swear, spring, thrilling, trilogy, ac...</td>\n",
       "      <td>[-0.042838484, -0.06484379, 0.2860937, -0.0088...</td>\n",
       "    </tr>\n",
       "    <tr>\n",
       "      <th>6</th>\n",
       "      <td>A Court of Wings and Ruin</td>\n",
       "      <td>{forgiven, series, any, take, he, amaze, them,...</td>\n",
       "      <td>[-0.079375714, -0.05378054, 0.2849432, 0.00378...</td>\n",
       "    </tr>\n",
       "    <tr>\n",
       "      <th>7</th>\n",
       "      <td>A Court of Wings and Ruin</td>\n",
       "      <td>{wrapped, hands, them, lack, this, thinking, a...</td>\n",
       "      <td>[-0.0921351, -0.0795774, 0.248911, -0.01134524...</td>\n",
       "    </tr>\n",
       "    <tr>\n",
       "      <th>8</th>\n",
       "      <td>A Court of Wings and Ruin</td>\n",
       "      <td>{\"in, say, sobbing, reason, at, review, days, ...</td>\n",
       "      <td>[-0.11087561, -0.04326821, 0.21955167, -0.0693...</td>\n",
       "    </tr>\n",
       "    <tr>\n",
       "      <th>9</th>\n",
       "      <td>A Court of Wings and Ruin</td>\n",
       "      <td>{love, series, completely, review, hope, thril...</td>\n",
       "      <td>[-0.095561184, 0.057735626, 0.19862364, -0.017...</td>\n",
       "    </tr>\n",
       "  </tbody>\n",
       "</table>\n",
       "</div>"
      ],
      "text/plain": [
       "                        book  \\\n",
       "0  A Court of Wings and Ruin   \n",
       "1  A Court of Wings and Ruin   \n",
       "2  A Court of Wings and Ruin   \n",
       "3  A Court of Wings and Ruin   \n",
       "4  A Court of Wings and Ruin   \n",
       "5  A Court of Wings and Ruin   \n",
       "6  A Court of Wings and Ruin   \n",
       "7  A Court of Wings and Ruin   \n",
       "8  A Court of Wings and Ruin   \n",
       "9  A Court of Wings and Ruin   \n",
       "\n",
       "                                                tags  \\\n",
       "0  {catch, bored, saintly, clear, fifteen, body, ...   \n",
       "1  {flaws, resurrected, making, hooo, underdevelo...   \n",
       "2  {acomaf, past, accountable, clear, making, he,...   \n",
       "3  {rated, tortured, acomaf, forgiving, bitched, ...   \n",
       "4  {dude, series, four, i\\'d, unsexy, liked, touc...   \n",
       "5  {series, swear, spring, thrilling, trilogy, ac...   \n",
       "6  {forgiven, series, any, take, he, amaze, them,...   \n",
       "7  {wrapped, hands, them, lack, this, thinking, a...   \n",
       "8  {\"in, say, sobbing, reason, at, review, days, ...   \n",
       "9  {love, series, completely, review, hope, thril...   \n",
       "\n",
       "                                              vector  \n",
       "0  [-0.006830589, 0.021674452, 0.27633604, -0.020...  \n",
       "1  [-0.012094354, 0.004298231, 0.2486076, -0.0332...  \n",
       "2  [-0.020606145, 0.020622712, 0.2896416, -0.0146...  \n",
       "3  [-0.017666489, 0.025592921, 0.26792833, -0.028...  \n",
       "4  [-0.03757106, -0.026826343, 0.28536475, -0.003...  \n",
       "5  [-0.042838484, -0.06484379, 0.2860937, -0.0088...  \n",
       "6  [-0.079375714, -0.05378054, 0.2849432, 0.00378...  \n",
       "7  [-0.0921351, -0.0795774, 0.248911, -0.01134524...  \n",
       "8  [-0.11087561, -0.04326821, 0.21955167, -0.0693...  \n",
       "9  [-0.095561184, 0.057735626, 0.19862364, -0.017...  "
      ]
     },
     "execution_count": 23,
     "metadata": {},
     "output_type": "execute_result"
    }
   ],
   "source": [
    "book_vector_df = pd.DataFrame(book_data,columns=['book', \n",
    "                                                 'tags', \n",
    "                                                 'vector'])\n",
    "book_vector_df[:10]"
   ]
  },
  {
   "cell_type": "code",
   "execution_count": 24,
   "metadata": {},
   "outputs": [
    {
     "data": {
      "text/plain": [
       "(21559, 3)"
      ]
     },
     "execution_count": 24,
     "metadata": {},
     "output_type": "execute_result"
    }
   ],
   "source": [
    "book_vector_df.shape"
   ]
  },
  {
   "cell_type": "markdown",
   "metadata": {},
   "source": [
    "## 5. Book Recommendation"
   ]
  },
  {
   "cell_type": "code",
   "execution_count": 25,
   "metadata": {},
   "outputs": [],
   "source": [
    "words_in_vocab= set(word2vec_sg.wv.index2word)"
   ]
  },
  {
   "cell_type": "code",
   "execution_count": 26,
   "metadata": {},
   "outputs": [],
   "source": [
    "def get_cosine_similarity(row, search_vector):\n",
    "    try:\n",
    "        cosine_similarity = np.dot(row['vector'], search_vector)/linalg.norm(row['vector'])/linalg.norm(search_vector)\n",
    "        return cosine_similarity\n",
    "    except Exception as e:\n",
    "        raise e"
   ]
  },
  {
   "cell_type": "code",
   "execution_count": 27,
   "metadata": {},
   "outputs": [
    {
     "name": "stdout",
     "output_type": "stream",
     "text": [
      "Buku yang dicari: A Crown of Wishes\n"
     ]
    }
   ],
   "source": [
    "# Mencari buku dengan judul \"A Crown of Wishes\"\n",
    "book = input('Buku yang dicari: ')"
   ]
  },
  {
   "cell_type": "code",
   "execution_count": 28,
   "metadata": {},
   "outputs": [],
   "source": [
    "index_similar_book = 21559\n",
    "for i, j in enumerate(dataset['book_title']):\n",
    "    if j == book:\n",
    "        index_similar_book = i\n",
    "\n",
    "if index_similar_book != 21559:\n",
    "    search_query = dataset['review_vocabs'][index_similar_book]"
   ]
  },
  {
   "cell_type": "code",
   "execution_count": 29,
   "metadata": {},
   "outputs": [],
   "source": [
    "search_vector = np.zeros((100,), dtype=\"float32\")\n",
    "for tag in search_query:\n",
    "    if tag in words_in_vocab:\n",
    "        search_vector = np.add(search_vector, w2v[tag])\n",
    "        \n",
    "book_vector_df['cosine_similarity'] = book_vector_df.apply(get_cosine_similarity,\n",
    "                                                           axis=1, args=(search_vector,))"
   ]
  },
  {
   "cell_type": "code",
   "execution_count": 30,
   "metadata": {},
   "outputs": [],
   "source": [
    "df = book_vector_df.sort_values(by='cosine_similarity', ascending=False)[:10]"
   ]
  },
  {
   "cell_type": "code",
   "execution_count": 31,
   "metadata": {},
   "outputs": [
    {
     "name": "stdout",
     "output_type": "stream",
     "text": [
      "Maka buku yang direkomendasikan berdasarkan buku A Crown of Wishes adalah :\n"
     ]
    },
    {
     "data": {
      "text/html": [
       "<div>\n",
       "<style scoped>\n",
       "    .dataframe tbody tr th:only-of-type {\n",
       "        vertical-align: middle;\n",
       "    }\n",
       "\n",
       "    .dataframe tbody tr th {\n",
       "        vertical-align: top;\n",
       "    }\n",
       "\n",
       "    .dataframe thead th {\n",
       "        text-align: right;\n",
       "    }\n",
       "</style>\n",
       "<table border=\"1\" class=\"dataframe\">\n",
       "  <thead>\n",
       "    <tr style=\"text-align: right;\">\n",
       "      <th></th>\n",
       "      <th>book</th>\n",
       "      <th>cosine_similarity</th>\n",
       "    </tr>\n",
       "  </thead>\n",
       "  <tbody>\n",
       "    <tr>\n",
       "      <th>5740</th>\n",
       "      <td>A Crown of Wishes</td>\n",
       "      <td>1.000000</td>\n",
       "    </tr>\n",
       "    <tr>\n",
       "      <th>15384</th>\n",
       "      <td>Walking on the Sea of Clouds</td>\n",
       "      <td>0.996974</td>\n",
       "    </tr>\n",
       "    <tr>\n",
       "      <th>571</th>\n",
       "      <td>The Seven Husbands of Evelyn Hugo</td>\n",
       "      <td>0.996956</td>\n",
       "    </tr>\n",
       "    <tr>\n",
       "      <th>5969</th>\n",
       "      <td>The Hungry Brain: Outsmarting the Instincts Th...</td>\n",
       "      <td>0.996908</td>\n",
       "    </tr>\n",
       "    <tr>\n",
       "      <th>6330</th>\n",
       "      <td>Trickery</td>\n",
       "      <td>0.996899</td>\n",
       "    </tr>\n",
       "    <tr>\n",
       "      <th>7888</th>\n",
       "      <td>Ghosted</td>\n",
       "      <td>0.996693</td>\n",
       "    </tr>\n",
       "    <tr>\n",
       "      <th>1800</th>\n",
       "      <td>Without Merit</td>\n",
       "      <td>0.996607</td>\n",
       "    </tr>\n",
       "    <tr>\n",
       "      <th>3553</th>\n",
       "      <td>A Piece of the World</td>\n",
       "      <td>0.996570</td>\n",
       "    </tr>\n",
       "    <tr>\n",
       "      <th>3870</th>\n",
       "      <td>When It's Real</td>\n",
       "      <td>0.996567</td>\n",
       "    </tr>\n",
       "    <tr>\n",
       "      <th>3814</th>\n",
       "      <td>My Absolute Darling</td>\n",
       "      <td>0.996552</td>\n",
       "    </tr>\n",
       "  </tbody>\n",
       "</table>\n",
       "</div>"
      ],
      "text/plain": [
       "                                                    book  cosine_similarity\n",
       "5740                                   A Crown of Wishes           1.000000\n",
       "15384                       Walking on the Sea of Clouds           0.996974\n",
       "571                    The Seven Husbands of Evelyn Hugo           0.996956\n",
       "5969   The Hungry Brain: Outsmarting the Instincts Th...           0.996908\n",
       "6330                                            Trickery           0.996899\n",
       "7888                                             Ghosted           0.996693\n",
       "1800                                       Without Merit           0.996607\n",
       "3553                                A Piece of the World           0.996570\n",
       "3870                                      When It's Real           0.996567\n",
       "3814                                 My Absolute Darling           0.996552"
      ]
     },
     "metadata": {},
     "output_type": "display_data"
    }
   ],
   "source": [
    "if index_similar_book == 21559:\n",
    "    print(\"Buku {0} tidak ditemukan\".format(book))\n",
    "else:\n",
    "    print(\"Maka buku yang direkomendasikan berdasarkan buku {0} adalah :\".format(book))\n",
    "    display(df[['book', 'cosine_similarity']])"
   ]
  },
  {
   "cell_type": "code",
   "execution_count": null,
   "metadata": {},
   "outputs": [],
   "source": []
  }
 ],
 "metadata": {
  "kernelspec": {
   "display_name": "Python 3",
   "language": "python",
   "name": "python3"
  },
  "language_info": {
   "codemirror_mode": {
    "name": "ipython",
    "version": 3
   },
   "file_extension": ".py",
   "mimetype": "text/x-python",
   "name": "python",
   "nbconvert_exporter": "python",
   "pygments_lexer": "ipython3",
   "version": "3.6.5"
  }
 },
 "nbformat": 4,
 "nbformat_minor": 4
}
