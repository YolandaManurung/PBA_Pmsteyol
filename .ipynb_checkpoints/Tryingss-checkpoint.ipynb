{
 "cells": [
  {
   "cell_type": "markdown",
   "metadata": {},
   "source": [
    "# Recommender System based on Review Book in E-commerce Using word2vec Algorithm\n",
    "\n",
    "\n",
    "1. Yolanda R.M Manurung (12S17017)\n",
    "2. Stella Sitinjak      (12S17027)\n",
    "3. Ekis Naomi Lasma     (12S17059)\n",
    "\n",
    "\n",
    "### Dataset\n",
    "Data yang digunakan pada proyek ini berasal dari kaggle (https://www.kaggle.com/gapple/goodreads-book-reviews-20k)"
   ]
  },
  {
   "cell_type": "markdown",
   "metadata": {},
   "source": [
    "## 1. Load Data"
   ]
  },
  {
   "cell_type": "code",
   "execution_count": 1,
   "metadata": {},
   "outputs": [],
   "source": [
    "import warnings\n",
    "warnings.filterwarnings(\"ignore\")"
   ]
  },
  {
   "cell_type": "code",
   "execution_count": 2,
   "metadata": {},
   "outputs": [],
   "source": [
    "#import library yang akan digunakan\n",
    "import pandas as pd\n",
    "import re\n",
    "import gensim\n",
    "import string\n",
    "from gensim.models import Word2Vec\n",
    "import numpy as np\n",
    "from scipy import linalg\n",
    "from nltk.tokenize import word_tokenize\n",
    "from nltk.corpus import stopwords, wordnet"
   ]
  },
  {
   "cell_type": "code",
   "execution_count": 3,
   "metadata": {},
   "outputs": [
    {
     "name": "stdout",
     "output_type": "stream",
     "text": [
      "Jumlah data = 21559\n"
     ]
    },
    {
     "data": {
      "text/html": [
       "<div>\n",
       "<style scoped>\n",
       "    .dataframe tbody tr th:only-of-type {\n",
       "        vertical-align: middle;\n",
       "    }\n",
       "\n",
       "    .dataframe tbody tr th {\n",
       "        vertical-align: top;\n",
       "    }\n",
       "\n",
       "    .dataframe thead th {\n",
       "        text-align: right;\n",
       "    }\n",
       "</style>\n",
       "<table border=\"1\" class=\"dataframe\">\n",
       "  <thead>\n",
       "    <tr style=\"text-align: right;\">\n",
       "      <th></th>\n",
       "      <th>book_title</th>\n",
       "      <th>Book_series</th>\n",
       "      <th>book_series_url</th>\n",
       "      <th>book_image</th>\n",
       "      <th>book_image_url</th>\n",
       "      <th>book_rating</th>\n",
       "      <th>book_author</th>\n",
       "      <th>author_url</th>\n",
       "      <th>genre</th>\n",
       "      <th>reviewer_name</th>\n",
       "      <th>reviewer_url</th>\n",
       "      <th>reviewer_image</th>\n",
       "      <th>reviewer_image_url</th>\n",
       "      <th>review</th>\n",
       "      <th>ID</th>\n",
       "    </tr>\n",
       "  </thead>\n",
       "  <tbody>\n",
       "    <tr>\n",
       "      <th>0</th>\n",
       "      <td>A Court of Wings and Ruin</td>\n",
       "      <td>(A Court of Thorns and Roses #3)</td>\n",
       "      <td>https://www.goodreads.com/series/104014-a-cour...</td>\n",
       "      <td>https://images.gr-assets.com/books/1485528243l...</td>\n",
       "      <td>https://www.goodreads.com/book/photo/23766634-...</td>\n",
       "      <td>4.51</td>\n",
       "      <td>Sarah J. Maas</td>\n",
       "      <td>https://www.goodreads.com/author/show/3433047....</td>\n",
       "      <td>Fantasy, Romance, Young Adult, New Adult</td>\n",
       "      <td>emma</td>\n",
       "      <td>https://www.goodreads.com/user/show/32879029-emma</td>\n",
       "      <td>https://images.gr-assets.com/users/1520568130p...</td>\n",
       "      <td>https://www.goodreads.com/user/show/32879029-emma</td>\n",
       "      <td>202.\\r\\nThat’s the number of times that the wo...</td>\n",
       "      <td>1</td>\n",
       "    </tr>\n",
       "    <tr>\n",
       "      <th>1</th>\n",
       "      <td>A Court of Wings and Ruin</td>\n",
       "      <td>(A Court of Thorns and Roses #3)</td>\n",
       "      <td>https://www.goodreads.com/series/104014-a-cour...</td>\n",
       "      <td>https://images.gr-assets.com/books/1485528243l...</td>\n",
       "      <td>https://www.goodreads.com/book/photo/23766634-...</td>\n",
       "      <td>4.51</td>\n",
       "      <td>Sarah J. Maas</td>\n",
       "      <td>https://www.goodreads.com/author/show/3433047....</td>\n",
       "      <td>Fantasy, Romance, Young Adult, New Adult</td>\n",
       "      <td>Em (RunawayWithDreamthieves)</td>\n",
       "      <td>https://www.goodreads.com/user/show/42130592-e...</td>\n",
       "      <td>https://images.gr-assets.com/users/1538507799p...</td>\n",
       "      <td>https://www.goodreads.com/user/show/42130592-e...</td>\n",
       "      <td>I need a black silk robe and a balcony to wear...</td>\n",
       "      <td>2</td>\n",
       "    </tr>\n",
       "    <tr>\n",
       "      <th>2</th>\n",
       "      <td>A Court of Wings and Ruin</td>\n",
       "      <td>(A Court of Thorns and Roses #3)</td>\n",
       "      <td>https://www.goodreads.com/series/104014-a-cour...</td>\n",
       "      <td>https://images.gr-assets.com/books/1485528243l...</td>\n",
       "      <td>https://www.goodreads.com/book/photo/23766634-...</td>\n",
       "      <td>4.51</td>\n",
       "      <td>Sarah J. Maas</td>\n",
       "      <td>https://www.goodreads.com/author/show/3433047....</td>\n",
       "      <td>Fantasy, Romance, Young Adult, New Adult</td>\n",
       "      <td>Cait • A Page with a View</td>\n",
       "      <td>https://www.goodreads.com/user/show/47412532-c...</td>\n",
       "      <td>https://images.gr-assets.com/users/1523134490p...</td>\n",
       "      <td>https://www.goodreads.com/user/show/47412532-c...</td>\n",
       "      <td>THIS BOOK TOTALLY WRECKED ME. In the best poss...</td>\n",
       "      <td>3</td>\n",
       "    </tr>\n",
       "    <tr>\n",
       "      <th>3</th>\n",
       "      <td>A Court of Wings and Ruin</td>\n",
       "      <td>(A Court of Thorns and Roses #3)</td>\n",
       "      <td>https://www.goodreads.com/series/104014-a-cour...</td>\n",
       "      <td>https://images.gr-assets.com/books/1485528243l...</td>\n",
       "      <td>https://www.goodreads.com/book/photo/23766634-...</td>\n",
       "      <td>4.51</td>\n",
       "      <td>Sarah J. Maas</td>\n",
       "      <td>https://www.goodreads.com/author/show/3433047....</td>\n",
       "      <td>Fantasy, Romance, Young Adult, New Adult</td>\n",
       "      <td>Natalie Monroe</td>\n",
       "      <td>https://www.goodreads.com/user/show/6688207-na...</td>\n",
       "      <td>https://images.gr-assets.com/users/1339730817p...</td>\n",
       "      <td>https://www.goodreads.com/user/show/6688207-na...</td>\n",
       "      <td>3.75 stars\\r\\n\"Rhys stepped off the stairs and...</td>\n",
       "      <td>4</td>\n",
       "    </tr>\n",
       "    <tr>\n",
       "      <th>4</th>\n",
       "      <td>A Court of Wings and Ruin</td>\n",
       "      <td>(A Court of Thorns and Roses #3)</td>\n",
       "      <td>https://www.goodreads.com/series/104014-a-cour...</td>\n",
       "      <td>https://images.gr-assets.com/books/1485528243l...</td>\n",
       "      <td>https://www.goodreads.com/book/photo/23766634-...</td>\n",
       "      <td>4.51</td>\n",
       "      <td>Sarah J. Maas</td>\n",
       "      <td>https://www.goodreads.com/author/show/3433047....</td>\n",
       "      <td>Fantasy, Romance, Young Adult, New Adult</td>\n",
       "      <td>Emily May</td>\n",
       "      <td>https://www.goodreads.com/user/show/4622890-em...</td>\n",
       "      <td>https://images.gr-assets.com/users/1528390751p...</td>\n",
       "      <td>https://www.goodreads.com/user/show/4622890-em...</td>\n",
       "      <td>I wish so much that I could tell you I loved t...</td>\n",
       "      <td>5</td>\n",
       "    </tr>\n",
       "  </tbody>\n",
       "</table>\n",
       "</div>"
      ],
      "text/plain": [
       "                  book_title                       Book_series  \\\n",
       "0  A Court of Wings and Ruin  (A Court of Thorns and Roses #3)   \n",
       "1  A Court of Wings and Ruin  (A Court of Thorns and Roses #3)   \n",
       "2  A Court of Wings and Ruin  (A Court of Thorns and Roses #3)   \n",
       "3  A Court of Wings and Ruin  (A Court of Thorns and Roses #3)   \n",
       "4  A Court of Wings and Ruin  (A Court of Thorns and Roses #3)   \n",
       "\n",
       "                                     book_series_url  \\\n",
       "0  https://www.goodreads.com/series/104014-a-cour...   \n",
       "1  https://www.goodreads.com/series/104014-a-cour...   \n",
       "2  https://www.goodreads.com/series/104014-a-cour...   \n",
       "3  https://www.goodreads.com/series/104014-a-cour...   \n",
       "4  https://www.goodreads.com/series/104014-a-cour...   \n",
       "\n",
       "                                          book_image  \\\n",
       "0  https://images.gr-assets.com/books/1485528243l...   \n",
       "1  https://images.gr-assets.com/books/1485528243l...   \n",
       "2  https://images.gr-assets.com/books/1485528243l...   \n",
       "3  https://images.gr-assets.com/books/1485528243l...   \n",
       "4  https://images.gr-assets.com/books/1485528243l...   \n",
       "\n",
       "                                      book_image_url  book_rating  \\\n",
       "0  https://www.goodreads.com/book/photo/23766634-...         4.51   \n",
       "1  https://www.goodreads.com/book/photo/23766634-...         4.51   \n",
       "2  https://www.goodreads.com/book/photo/23766634-...         4.51   \n",
       "3  https://www.goodreads.com/book/photo/23766634-...         4.51   \n",
       "4  https://www.goodreads.com/book/photo/23766634-...         4.51   \n",
       "\n",
       "     book_author                                         author_url  \\\n",
       "0  Sarah J. Maas  https://www.goodreads.com/author/show/3433047....   \n",
       "1  Sarah J. Maas  https://www.goodreads.com/author/show/3433047....   \n",
       "2  Sarah J. Maas  https://www.goodreads.com/author/show/3433047....   \n",
       "3  Sarah J. Maas  https://www.goodreads.com/author/show/3433047....   \n",
       "4  Sarah J. Maas  https://www.goodreads.com/author/show/3433047....   \n",
       "\n",
       "                                      genre                 reviewer_name  \\\n",
       "0  Fantasy, Romance, Young Adult, New Adult                          emma   \n",
       "1  Fantasy, Romance, Young Adult, New Adult  Em (RunawayWithDreamthieves)   \n",
       "2  Fantasy, Romance, Young Adult, New Adult     Cait • A Page with a View   \n",
       "3  Fantasy, Romance, Young Adult, New Adult                Natalie Monroe   \n",
       "4  Fantasy, Romance, Young Adult, New Adult                     Emily May   \n",
       "\n",
       "                                        reviewer_url  \\\n",
       "0  https://www.goodreads.com/user/show/32879029-emma   \n",
       "1  https://www.goodreads.com/user/show/42130592-e...   \n",
       "2  https://www.goodreads.com/user/show/47412532-c...   \n",
       "3  https://www.goodreads.com/user/show/6688207-na...   \n",
       "4  https://www.goodreads.com/user/show/4622890-em...   \n",
       "\n",
       "                                      reviewer_image  \\\n",
       "0  https://images.gr-assets.com/users/1520568130p...   \n",
       "1  https://images.gr-assets.com/users/1538507799p...   \n",
       "2  https://images.gr-assets.com/users/1523134490p...   \n",
       "3  https://images.gr-assets.com/users/1339730817p...   \n",
       "4  https://images.gr-assets.com/users/1528390751p...   \n",
       "\n",
       "                                  reviewer_image_url  \\\n",
       "0  https://www.goodreads.com/user/show/32879029-emma   \n",
       "1  https://www.goodreads.com/user/show/42130592-e...   \n",
       "2  https://www.goodreads.com/user/show/47412532-c...   \n",
       "3  https://www.goodreads.com/user/show/6688207-na...   \n",
       "4  https://www.goodreads.com/user/show/4622890-em...   \n",
       "\n",
       "                                              review  ID  \n",
       "0  202.\\r\\nThat’s the number of times that the wo...   1  \n",
       "1  I need a black silk robe and a balcony to wear...   2  \n",
       "2  THIS BOOK TOTALLY WRECKED ME. In the best poss...   3  \n",
       "3  3.75 stars\\r\\n\"Rhys stepped off the stairs and...   4  \n",
       "4  I wish so much that I could tell you I loved t...   5  "
      ]
     },
     "execution_count": 3,
     "metadata": {},
     "output_type": "execute_result"
    }
   ],
   "source": [
    "#load dataset Goodreads buku dan menampilkan 5 data teratas\n",
    "data = pd.read_csv(\"./all_data.csv\")\n",
    "print ('Jumlah data =', len(data))\n",
    "data.head()"
   ]
  },
  {
   "cell_type": "markdown",
   "metadata": {},
   "source": [
    "## 2. Data Preparation"
   ]
  },
  {
   "cell_type": "markdown",
   "metadata": {},
   "source": [
    "Tahap awal sebelum preprocessing yaitu melakukan preparation untuk pengecekan data noise dan dirty. Tahap yang dilakukan adalah pengecekan null value dan duplicate value"
   ]
  },
  {
   "cell_type": "markdown",
   "metadata": {},
   "source": [
    "### Drop Null Value"
   ]
  },
  {
   "cell_type": "code",
   "execution_count": 4,
   "metadata": {},
   "outputs": [
    {
     "data": {
      "text/plain": [
       "book_title                0\n",
       "Book_series           12779\n",
       "book_series_url       12779\n",
       "book_image                2\n",
       "book_image_url            2\n",
       "book_rating               0\n",
       "book_author               0\n",
       "author_url                0\n",
       "genre                   121\n",
       "reviewer_name            25\n",
       "reviewer_url             25\n",
       "reviewer_image           25\n",
       "reviewer_image_url       25\n",
       "review                  742\n",
       "ID                        0\n",
       "dtype: int64"
      ]
     },
     "execution_count": 4,
     "metadata": {},
     "output_type": "execute_result"
    }
   ],
   "source": [
    "#pengecekan nilai null pada data\n",
    "data.isnull().sum()"
   ]
  },
  {
   "cell_type": "code",
   "execution_count": 5,
   "metadata": {},
   "outputs": [],
   "source": [
    "#penghapusan null value dengan menggunakan fillna\n",
    "data['Book_series'] = data['Book_series'].fillna(data['Book_series'].mode().iloc[0])\n",
    "data['book_series_url'] = data['book_series_url'].fillna(data['book_series_url'].mode().iloc[0])\n",
    "data['book_image'] = data['book_image'].fillna(data['book_image'].mode().iloc[0])\n",
    "data['book_image_url'] = data['book_image_url'].fillna(data['book_image_url'].mode().iloc[0])\n",
    "data['genre'] = data['genre'].fillna(data['genre'].mode().iloc[0])\n",
    "data['reviewer_name'] = data['reviewer_name'].fillna(data['reviewer_name'].mode().iloc[0])\n",
    "data['reviewer_url'] = data['reviewer_url'].fillna(data['reviewer_url'].mode().iloc[0])\n",
    "data['reviewer_image'] = data['reviewer_image'].fillna(data['reviewer_image'].mode().iloc[0])\n",
    "data['reviewer_image_url'] = data['reviewer_image_url'].fillna(data['reviewer_image_url'].mode().iloc[0])\n",
    "data['review'] = data['review'].fillna(data['review'].mode().iloc[0])"
   ]
  },
  {
   "cell_type": "code",
   "execution_count": 6,
   "metadata": {},
   "outputs": [
    {
     "data": {
      "text/plain": [
       "book_title            0\n",
       "Book_series           0\n",
       "book_series_url       0\n",
       "book_image            0\n",
       "book_image_url        0\n",
       "book_rating           0\n",
       "book_author           0\n",
       "author_url            0\n",
       "genre                 0\n",
       "reviewer_name         0\n",
       "reviewer_url          0\n",
       "reviewer_image        0\n",
       "reviewer_image_url    0\n",
       "review                0\n",
       "ID                    0\n",
       "dtype: int64"
      ]
     },
     "execution_count": 6,
     "metadata": {},
     "output_type": "execute_result"
    }
   ],
   "source": [
    "#pengecekan data setelah drop null value\n",
    "data.isnull().sum()"
   ]
  },
  {
   "cell_type": "markdown",
   "metadata": {},
   "source": [
    "### Drop Duplicate Value"
   ]
  },
  {
   "cell_type": "code",
   "execution_count": 7,
   "metadata": {},
   "outputs": [
    {
     "data": {
      "text/plain": [
       "0"
      ]
     },
     "execution_count": 7,
     "metadata": {},
     "output_type": "execute_result"
    }
   ],
   "source": [
    "#pengecekan duplicate value \n",
    "data.duplicated().sum()"
   ]
  },
  {
   "cell_type": "code",
   "execution_count": 8,
   "metadata": {},
   "outputs": [
    {
     "data": {
      "text/html": [
       "<div>\n",
       "<style scoped>\n",
       "    .dataframe tbody tr th:only-of-type {\n",
       "        vertical-align: middle;\n",
       "    }\n",
       "\n",
       "    .dataframe tbody tr th {\n",
       "        vertical-align: top;\n",
       "    }\n",
       "\n",
       "    .dataframe thead th {\n",
       "        text-align: right;\n",
       "    }\n",
       "</style>\n",
       "<table border=\"1\" class=\"dataframe\">\n",
       "  <thead>\n",
       "    <tr style=\"text-align: right;\">\n",
       "      <th></th>\n",
       "      <th>book_title</th>\n",
       "      <th>Book_series</th>\n",
       "      <th>book_series_url</th>\n",
       "      <th>book_image</th>\n",
       "      <th>book_image_url</th>\n",
       "      <th>book_rating</th>\n",
       "      <th>book_author</th>\n",
       "      <th>author_url</th>\n",
       "      <th>genre</th>\n",
       "      <th>reviewer_name</th>\n",
       "      <th>reviewer_url</th>\n",
       "      <th>reviewer_image</th>\n",
       "      <th>reviewer_image_url</th>\n",
       "      <th>review</th>\n",
       "      <th>ID</th>\n",
       "    </tr>\n",
       "  </thead>\n",
       "  <tbody>\n",
       "    <tr>\n",
       "      <th>0</th>\n",
       "      <td>A Court of Wings and Ruin</td>\n",
       "      <td>(A Court of Thorns and Roses #3)</td>\n",
       "      <td>https://www.goodreads.com/series/104014-a-cour...</td>\n",
       "      <td>https://images.gr-assets.com/books/1485528243l...</td>\n",
       "      <td>https://www.goodreads.com/book/photo/23766634-...</td>\n",
       "      <td>4.51</td>\n",
       "      <td>Sarah J. Maas</td>\n",
       "      <td>https://www.goodreads.com/author/show/3433047....</td>\n",
       "      <td>Fantasy, Romance, Young Adult, New Adult</td>\n",
       "      <td>emma</td>\n",
       "      <td>https://www.goodreads.com/user/show/32879029-emma</td>\n",
       "      <td>https://images.gr-assets.com/users/1520568130p...</td>\n",
       "      <td>https://www.goodreads.com/user/show/32879029-emma</td>\n",
       "      <td>202.\\r\\nThat’s the number of times that the wo...</td>\n",
       "      <td>1</td>\n",
       "    </tr>\n",
       "    <tr>\n",
       "      <th>1</th>\n",
       "      <td>A Court of Wings and Ruin</td>\n",
       "      <td>(A Court of Thorns and Roses #3)</td>\n",
       "      <td>https://www.goodreads.com/series/104014-a-cour...</td>\n",
       "      <td>https://images.gr-assets.com/books/1485528243l...</td>\n",
       "      <td>https://www.goodreads.com/book/photo/23766634-...</td>\n",
       "      <td>4.51</td>\n",
       "      <td>Sarah J. Maas</td>\n",
       "      <td>https://www.goodreads.com/author/show/3433047....</td>\n",
       "      <td>Fantasy, Romance, Young Adult, New Adult</td>\n",
       "      <td>Em (RunawayWithDreamthieves)</td>\n",
       "      <td>https://www.goodreads.com/user/show/42130592-e...</td>\n",
       "      <td>https://images.gr-assets.com/users/1538507799p...</td>\n",
       "      <td>https://www.goodreads.com/user/show/42130592-e...</td>\n",
       "      <td>I need a black silk robe and a balcony to wear...</td>\n",
       "      <td>2</td>\n",
       "    </tr>\n",
       "    <tr>\n",
       "      <th>2</th>\n",
       "      <td>A Court of Wings and Ruin</td>\n",
       "      <td>(A Court of Thorns and Roses #3)</td>\n",
       "      <td>https://www.goodreads.com/series/104014-a-cour...</td>\n",
       "      <td>https://images.gr-assets.com/books/1485528243l...</td>\n",
       "      <td>https://www.goodreads.com/book/photo/23766634-...</td>\n",
       "      <td>4.51</td>\n",
       "      <td>Sarah J. Maas</td>\n",
       "      <td>https://www.goodreads.com/author/show/3433047....</td>\n",
       "      <td>Fantasy, Romance, Young Adult, New Adult</td>\n",
       "      <td>Cait • A Page with a View</td>\n",
       "      <td>https://www.goodreads.com/user/show/47412532-c...</td>\n",
       "      <td>https://images.gr-assets.com/users/1523134490p...</td>\n",
       "      <td>https://www.goodreads.com/user/show/47412532-c...</td>\n",
       "      <td>THIS BOOK TOTALLY WRECKED ME. In the best poss...</td>\n",
       "      <td>3</td>\n",
       "    </tr>\n",
       "    <tr>\n",
       "      <th>3</th>\n",
       "      <td>A Court of Wings and Ruin</td>\n",
       "      <td>(A Court of Thorns and Roses #3)</td>\n",
       "      <td>https://www.goodreads.com/series/104014-a-cour...</td>\n",
       "      <td>https://images.gr-assets.com/books/1485528243l...</td>\n",
       "      <td>https://www.goodreads.com/book/photo/23766634-...</td>\n",
       "      <td>4.51</td>\n",
       "      <td>Sarah J. Maas</td>\n",
       "      <td>https://www.goodreads.com/author/show/3433047....</td>\n",
       "      <td>Fantasy, Romance, Young Adult, New Adult</td>\n",
       "      <td>Natalie Monroe</td>\n",
       "      <td>https://www.goodreads.com/user/show/6688207-na...</td>\n",
       "      <td>https://images.gr-assets.com/users/1339730817p...</td>\n",
       "      <td>https://www.goodreads.com/user/show/6688207-na...</td>\n",
       "      <td>3.75 stars\\r\\n\"Rhys stepped off the stairs and...</td>\n",
       "      <td>4</td>\n",
       "    </tr>\n",
       "    <tr>\n",
       "      <th>4</th>\n",
       "      <td>A Court of Wings and Ruin</td>\n",
       "      <td>(A Court of Thorns and Roses #3)</td>\n",
       "      <td>https://www.goodreads.com/series/104014-a-cour...</td>\n",
       "      <td>https://images.gr-assets.com/books/1485528243l...</td>\n",
       "      <td>https://www.goodreads.com/book/photo/23766634-...</td>\n",
       "      <td>4.51</td>\n",
       "      <td>Sarah J. Maas</td>\n",
       "      <td>https://www.goodreads.com/author/show/3433047....</td>\n",
       "      <td>Fantasy, Romance, Young Adult, New Adult</td>\n",
       "      <td>Emily May</td>\n",
       "      <td>https://www.goodreads.com/user/show/4622890-em...</td>\n",
       "      <td>https://images.gr-assets.com/users/1528390751p...</td>\n",
       "      <td>https://www.goodreads.com/user/show/4622890-em...</td>\n",
       "      <td>I wish so much that I could tell you I loved t...</td>\n",
       "      <td>5</td>\n",
       "    </tr>\n",
       "  </tbody>\n",
       "</table>\n",
       "</div>"
      ],
      "text/plain": [
       "                  book_title                       Book_series  \\\n",
       "0  A Court of Wings and Ruin  (A Court of Thorns and Roses #3)   \n",
       "1  A Court of Wings and Ruin  (A Court of Thorns and Roses #3)   \n",
       "2  A Court of Wings and Ruin  (A Court of Thorns and Roses #3)   \n",
       "3  A Court of Wings and Ruin  (A Court of Thorns and Roses #3)   \n",
       "4  A Court of Wings and Ruin  (A Court of Thorns and Roses #3)   \n",
       "\n",
       "                                     book_series_url  \\\n",
       "0  https://www.goodreads.com/series/104014-a-cour...   \n",
       "1  https://www.goodreads.com/series/104014-a-cour...   \n",
       "2  https://www.goodreads.com/series/104014-a-cour...   \n",
       "3  https://www.goodreads.com/series/104014-a-cour...   \n",
       "4  https://www.goodreads.com/series/104014-a-cour...   \n",
       "\n",
       "                                          book_image  \\\n",
       "0  https://images.gr-assets.com/books/1485528243l...   \n",
       "1  https://images.gr-assets.com/books/1485528243l...   \n",
       "2  https://images.gr-assets.com/books/1485528243l...   \n",
       "3  https://images.gr-assets.com/books/1485528243l...   \n",
       "4  https://images.gr-assets.com/books/1485528243l...   \n",
       "\n",
       "                                      book_image_url  book_rating  \\\n",
       "0  https://www.goodreads.com/book/photo/23766634-...         4.51   \n",
       "1  https://www.goodreads.com/book/photo/23766634-...         4.51   \n",
       "2  https://www.goodreads.com/book/photo/23766634-...         4.51   \n",
       "3  https://www.goodreads.com/book/photo/23766634-...         4.51   \n",
       "4  https://www.goodreads.com/book/photo/23766634-...         4.51   \n",
       "\n",
       "     book_author                                         author_url  \\\n",
       "0  Sarah J. Maas  https://www.goodreads.com/author/show/3433047....   \n",
       "1  Sarah J. Maas  https://www.goodreads.com/author/show/3433047....   \n",
       "2  Sarah J. Maas  https://www.goodreads.com/author/show/3433047....   \n",
       "3  Sarah J. Maas  https://www.goodreads.com/author/show/3433047....   \n",
       "4  Sarah J. Maas  https://www.goodreads.com/author/show/3433047....   \n",
       "\n",
       "                                      genre                 reviewer_name  \\\n",
       "0  Fantasy, Romance, Young Adult, New Adult                          emma   \n",
       "1  Fantasy, Romance, Young Adult, New Adult  Em (RunawayWithDreamthieves)   \n",
       "2  Fantasy, Romance, Young Adult, New Adult     Cait • A Page with a View   \n",
       "3  Fantasy, Romance, Young Adult, New Adult                Natalie Monroe   \n",
       "4  Fantasy, Romance, Young Adult, New Adult                     Emily May   \n",
       "\n",
       "                                        reviewer_url  \\\n",
       "0  https://www.goodreads.com/user/show/32879029-emma   \n",
       "1  https://www.goodreads.com/user/show/42130592-e...   \n",
       "2  https://www.goodreads.com/user/show/47412532-c...   \n",
       "3  https://www.goodreads.com/user/show/6688207-na...   \n",
       "4  https://www.goodreads.com/user/show/4622890-em...   \n",
       "\n",
       "                                      reviewer_image  \\\n",
       "0  https://images.gr-assets.com/users/1520568130p...   \n",
       "1  https://images.gr-assets.com/users/1538507799p...   \n",
       "2  https://images.gr-assets.com/users/1523134490p...   \n",
       "3  https://images.gr-assets.com/users/1339730817p...   \n",
       "4  https://images.gr-assets.com/users/1528390751p...   \n",
       "\n",
       "                                  reviewer_image_url  \\\n",
       "0  https://www.goodreads.com/user/show/32879029-emma   \n",
       "1  https://www.goodreads.com/user/show/42130592-e...   \n",
       "2  https://www.goodreads.com/user/show/47412532-c...   \n",
       "3  https://www.goodreads.com/user/show/6688207-na...   \n",
       "4  https://www.goodreads.com/user/show/4622890-em...   \n",
       "\n",
       "                                              review  ID  \n",
       "0  202.\\r\\nThat’s the number of times that the wo...   1  \n",
       "1  I need a black silk robe and a balcony to wear...   2  \n",
       "2  THIS BOOK TOTALLY WRECKED ME. In the best poss...   3  \n",
       "3  3.75 stars\\r\\n\"Rhys stepped off the stairs and...   4  \n",
       "4  I wish so much that I could tell you I loved t...   5  "
      ]
     },
     "execution_count": 8,
     "metadata": {},
     "output_type": "execute_result"
    }
   ],
   "source": [
    "#menampilkan 5 data teratas yang sudah di cek duplicate value\n",
    "data['book_title'].drop_duplicates(keep=False,inplace=True)\n",
    "data.head()"
   ]
  },
  {
   "cell_type": "markdown",
   "metadata": {},
   "source": [
    "## 3. Data Preprocessing"
   ]
  },
  {
   "cell_type": "markdown",
   "metadata": {},
   "source": [
    "### Case Folding"
   ]
  },
  {
   "cell_type": "markdown",
   "metadata": {},
   "source": [
    "Proses untuk melakukan konversi seluruh karakter ke dalam huruf kecil"
   ]
  },
  {
   "cell_type": "code",
   "execution_count": 9,
   "metadata": {},
   "outputs": [
    {
     "data": {
      "text/plain": [
       "0    202.\\r\\nthat’s the number of times that the wo...\n",
       "1    i need a black silk robe and a balcony to wear...\n",
       "2    this book totally wrecked me. in the best poss...\n",
       "3    3.75 stars\\r\\n\"rhys stepped off the stairs and...\n",
       "4    i wish so much that i could tell you i loved t...\n",
       "Name: lower, dtype: object"
      ]
     },
     "execution_count": 9,
     "metadata": {},
     "output_type": "execute_result"
    }
   ],
   "source": [
    "#mengubah huruf kapital menjadi huruf kecil yang ditampung pada parameter \"lower\"\n",
    "review = []\n",
    "for i in range(0, 21559):\n",
    "    review.append(data[\"review\"][i].casefold())\n",
    "    \n",
    "data['lower'] = review\n",
    "data['lower'].head()"
   ]
  },
  {
   "cell_type": "markdown",
   "metadata": {},
   "source": [
    "### Remove Punctuation"
   ]
  },
  {
   "cell_type": "code",
   "execution_count": 10,
   "metadata": {},
   "outputs": [],
   "source": [
    "#menghilangkan tanda baca dan ditampung oleh atribut baru yaitu \"no_punc\"\n",
    "review = []\n",
    "for i in range(0, 21559):\n",
    "    review.append(repr(data[\"lower\"][i].replace(\",\", \"\").replace(\"\\n\", \"\")\n",
    "                                       .replace(\"\\r\", \"\").replace(\"---\", \"\")\n",
    "                                       .replace('|','').replace(\"!\",\"\")\n",
    "                                       .replace(\"//\", \"\").replace(\"?\",\"\")\n",
    "                                       .replace(\"    \", \" \").replace(\"  \",\" \")))"
   ]
  },
  {
   "cell_type": "code",
   "execution_count": 11,
   "metadata": {},
   "outputs": [
    {
     "data": {
      "text/html": [
       "<div>\n",
       "<style scoped>\n",
       "    .dataframe tbody tr th:only-of-type {\n",
       "        vertical-align: middle;\n",
       "    }\n",
       "\n",
       "    .dataframe tbody tr th {\n",
       "        vertical-align: top;\n",
       "    }\n",
       "\n",
       "    .dataframe thead th {\n",
       "        text-align: right;\n",
       "    }\n",
       "</style>\n",
       "<table border=\"1\" class=\"dataframe\">\n",
       "  <thead>\n",
       "    <tr style=\"text-align: right;\">\n",
       "      <th></th>\n",
       "      <th>book_title</th>\n",
       "      <th>book_rating</th>\n",
       "      <th>genre</th>\n",
       "      <th>no_punc</th>\n",
       "    </tr>\n",
       "  </thead>\n",
       "  <tbody>\n",
       "    <tr>\n",
       "      <th>0</th>\n",
       "      <td>A Court of Wings and Ruin</td>\n",
       "      <td>4.51</td>\n",
       "      <td>Fantasy, Romance, Young Adult, New Adult</td>\n",
       "      <td>\"202 that’s the number of times that the word ...</td>\n",
       "    </tr>\n",
       "    <tr>\n",
       "      <th>1</th>\n",
       "      <td>A Court of Wings and Ruin</td>\n",
       "      <td>4.51</td>\n",
       "      <td>Fantasy, Romance, Young Adult, New Adult</td>\n",
       "      <td>'i need a black silk robe and a balcony to wea...</td>\n",
       "    </tr>\n",
       "    <tr>\n",
       "      <th>2</th>\n",
       "      <td>A Court of Wings and Ruin</td>\n",
       "      <td>4.51</td>\n",
       "      <td>Fantasy, Romance, Young Adult, New Adult</td>\n",
       "      <td>'this book totally wrecked me in the best poss...</td>\n",
       "    </tr>\n",
       "    <tr>\n",
       "      <th>3</th>\n",
       "      <td>A Court of Wings and Ruin</td>\n",
       "      <td>4.51</td>\n",
       "      <td>Fantasy, Romance, Young Adult, New Adult</td>\n",
       "      <td>'5 stars\"rhys stepped off the stairs and took ...</td>\n",
       "    </tr>\n",
       "    <tr>\n",
       "      <th>4</th>\n",
       "      <td>A Court of Wings and Ruin</td>\n",
       "      <td>4.51</td>\n",
       "      <td>Fantasy, Romance, Young Adult, New Adult</td>\n",
       "      <td>'i wish so much that i could tell you i loved ...</td>\n",
       "    </tr>\n",
       "  </tbody>\n",
       "</table>\n",
       "</div>"
      ],
      "text/plain": [
       "                  book_title  book_rating  \\\n",
       "0  A Court of Wings and Ruin         4.51   \n",
       "1  A Court of Wings and Ruin         4.51   \n",
       "2  A Court of Wings and Ruin         4.51   \n",
       "3  A Court of Wings and Ruin         4.51   \n",
       "4  A Court of Wings and Ruin         4.51   \n",
       "\n",
       "                                      genre  \\\n",
       "0  Fantasy, Romance, Young Adult, New Adult   \n",
       "1  Fantasy, Romance, Young Adult, New Adult   \n",
       "2  Fantasy, Romance, Young Adult, New Adult   \n",
       "3  Fantasy, Romance, Young Adult, New Adult   \n",
       "4  Fantasy, Romance, Young Adult, New Adult   \n",
       "\n",
       "                                             no_punc  \n",
       "0  \"202 that’s the number of times that the word ...  \n",
       "1  'i need a black silk robe and a balcony to wea...  \n",
       "2  'this book totally wrecked me in the best poss...  \n",
       "3  '5 stars\"rhys stepped off the stairs and took ...  \n",
       "4  'i wish so much that i could tell you i loved ...  "
      ]
     },
     "execution_count": 11,
     "metadata": {},
     "output_type": "execute_result"
    }
   ],
   "source": [
    "reviews = []\n",
    "for i in review:\n",
    "    review = re.sub(r'\\ by.*? on', \"\", i)\n",
    "    review = re.sub(r\"\\d\\.\\d\", \"\", review)\n",
    "    review = re.sub(r\"\\d+\\ [a-z]+\\.*\\ \\d+\", \"\", review)\n",
    "    review = review.replace(\".\", \" \")\n",
    "    review = re.sub(r'\\  *', \" \", review)\n",
    "    reviews.append(review)\n",
    "    \n",
    "data[\"no_punc\"] = reviews\n",
    "data[[\"book_title\", \"book_rating\", \"genre\", \"no_punc\"]].head()"
   ]
  },
  {
   "cell_type": "markdown",
   "metadata": {},
   "source": [
    "Data yang sudah dilakukan preprocessing akan disimpan menjadi data baru dalam file DataBuku.csv"
   ]
  },
  {
   "cell_type": "code",
   "execution_count": 12,
   "metadata": {},
   "outputs": [],
   "source": [
    "new = data[[\"ID\", \"book_title\", \"book_rating\", \"genre\", \"no_punc\"]]\n",
    "new.to_csv(\"./DataBuku.csv\")"
   ]
  },
  {
   "cell_type": "code",
   "execution_count": 13,
   "metadata": {},
   "outputs": [
    {
     "data": {
      "text/html": [
       "<div>\n",
       "<style scoped>\n",
       "    .dataframe tbody tr th:only-of-type {\n",
       "        vertical-align: middle;\n",
       "    }\n",
       "\n",
       "    .dataframe tbody tr th {\n",
       "        vertical-align: top;\n",
       "    }\n",
       "\n",
       "    .dataframe thead th {\n",
       "        text-align: right;\n",
       "    }\n",
       "</style>\n",
       "<table border=\"1\" class=\"dataframe\">\n",
       "  <thead>\n",
       "    <tr style=\"text-align: right;\">\n",
       "      <th></th>\n",
       "      <th>Unnamed: 0</th>\n",
       "      <th>ID</th>\n",
       "      <th>book_title</th>\n",
       "      <th>book_rating</th>\n",
       "      <th>genre</th>\n",
       "      <th>no_punc</th>\n",
       "    </tr>\n",
       "  </thead>\n",
       "  <tbody>\n",
       "    <tr>\n",
       "      <th>0</th>\n",
       "      <td>0</td>\n",
       "      <td>1</td>\n",
       "      <td>A Court of Wings and Ruin</td>\n",
       "      <td>4.51</td>\n",
       "      <td>Fantasy, Romance, Young Adult, New Adult</td>\n",
       "      <td>\"202 that’s the number of times that the word ...</td>\n",
       "    </tr>\n",
       "    <tr>\n",
       "      <th>1</th>\n",
       "      <td>1</td>\n",
       "      <td>2</td>\n",
       "      <td>A Court of Wings and Ruin</td>\n",
       "      <td>4.51</td>\n",
       "      <td>Fantasy, Romance, Young Adult, New Adult</td>\n",
       "      <td>'i need a black silk robe and a balcony to wea...</td>\n",
       "    </tr>\n",
       "    <tr>\n",
       "      <th>2</th>\n",
       "      <td>2</td>\n",
       "      <td>3</td>\n",
       "      <td>A Court of Wings and Ruin</td>\n",
       "      <td>4.51</td>\n",
       "      <td>Fantasy, Romance, Young Adult, New Adult</td>\n",
       "      <td>'this book totally wrecked me in the best poss...</td>\n",
       "    </tr>\n",
       "    <tr>\n",
       "      <th>3</th>\n",
       "      <td>3</td>\n",
       "      <td>4</td>\n",
       "      <td>A Court of Wings and Ruin</td>\n",
       "      <td>4.51</td>\n",
       "      <td>Fantasy, Romance, Young Adult, New Adult</td>\n",
       "      <td>'5 stars\"rhys stepped off the stairs and took ...</td>\n",
       "    </tr>\n",
       "    <tr>\n",
       "      <th>4</th>\n",
       "      <td>4</td>\n",
       "      <td>5</td>\n",
       "      <td>A Court of Wings and Ruin</td>\n",
       "      <td>4.51</td>\n",
       "      <td>Fantasy, Romance, Young Adult, New Adult</td>\n",
       "      <td>'i wish so much that i could tell you i loved ...</td>\n",
       "    </tr>\n",
       "  </tbody>\n",
       "</table>\n",
       "</div>"
      ],
      "text/plain": [
       "   Unnamed: 0  ID                 book_title  book_rating  \\\n",
       "0           0   1  A Court of Wings and Ruin         4.51   \n",
       "1           1   2  A Court of Wings and Ruin         4.51   \n",
       "2           2   3  A Court of Wings and Ruin         4.51   \n",
       "3           3   4  A Court of Wings and Ruin         4.51   \n",
       "4           4   5  A Court of Wings and Ruin         4.51   \n",
       "\n",
       "                                      genre  \\\n",
       "0  Fantasy, Romance, Young Adult, New Adult   \n",
       "1  Fantasy, Romance, Young Adult, New Adult   \n",
       "2  Fantasy, Romance, Young Adult, New Adult   \n",
       "3  Fantasy, Romance, Young Adult, New Adult   \n",
       "4  Fantasy, Romance, Young Adult, New Adult   \n",
       "\n",
       "                                             no_punc  \n",
       "0  \"202 that’s the number of times that the word ...  \n",
       "1  'i need a black silk robe and a balcony to wea...  \n",
       "2  'this book totally wrecked me in the best poss...  \n",
       "3  '5 stars\"rhys stepped off the stairs and took ...  \n",
       "4  'i wish so much that i could tell you i loved ...  "
      ]
     },
     "execution_count": 13,
     "metadata": {},
     "output_type": "execute_result"
    }
   ],
   "source": [
    "dataset = pd.read_csv(\"./Databuku.csv\", delimiter=\",\")\n",
    "dataset.head()"
   ]
  },
  {
   "cell_type": "markdown",
   "metadata": {},
   "source": [
    "### Tokenization"
   ]
  },
  {
   "cell_type": "code",
   "execution_count": 14,
   "metadata": {},
   "outputs": [
    {
     "data": {
      "text/plain": [
       "0    [\"202, that’s, the, number, of, times, that, t...\n",
       "1    ['i, need, a, black, silk, robe, and, a, balco...\n",
       "2    ['this, book, totally, wrecked, me, in, the, b...\n",
       "3    ['5, stars\"rhys, stepped, off, the, stairs, an...\n",
       "4    ['i, wish, so, much, that, i, could, tell, you...\n",
       "Name: tokenized, dtype: object"
      ]
     },
     "execution_count": 14,
     "metadata": {},
     "output_type": "execute_result"
    }
   ],
   "source": [
    "#melakukan tokenisasi pada atribut \"review\" yang ditampung dalam parameter \"tokenized\"\n",
    "from nltk.tokenize import SpaceTokenizer\n",
    "sTokenizer = SpaceTokenizer()\n",
    "review_tokens = []\n",
    "for i in dataset['no_punc']:\n",
    "    review_tokens.append(sTokenizer.tokenize(i))\n",
    "    \n",
    "dataset['tokenized'] = review_tokens\n",
    "dataset['tokenized'].head()"
   ]
  },
  {
   "cell_type": "code",
   "execution_count": 15,
   "metadata": {},
   "outputs": [
    {
     "data": {
      "text/html": [
       "<div>\n",
       "<style scoped>\n",
       "    .dataframe tbody tr th:only-of-type {\n",
       "        vertical-align: middle;\n",
       "    }\n",
       "\n",
       "    .dataframe tbody tr th {\n",
       "        vertical-align: top;\n",
       "    }\n",
       "\n",
       "    .dataframe thead th {\n",
       "        text-align: right;\n",
       "    }\n",
       "</style>\n",
       "<table border=\"1\" class=\"dataframe\">\n",
       "  <thead>\n",
       "    <tr style=\"text-align: right;\">\n",
       "      <th></th>\n",
       "      <th>ID</th>\n",
       "      <th>book_title</th>\n",
       "      <th>book_rating</th>\n",
       "      <th>genre</th>\n",
       "      <th>review_vocabs</th>\n",
       "    </tr>\n",
       "  </thead>\n",
       "  <tbody>\n",
       "    <tr>\n",
       "      <th>0</th>\n",
       "      <td>1</td>\n",
       "      <td>A Court of Wings and Ruin</td>\n",
       "      <td>4.51</td>\n",
       "      <td>Fantasy, Romance, Young Adult, New Adult</td>\n",
       "      <td>{force, star, source, listen, ”“one, efficient...</td>\n",
       "    </tr>\n",
       "    <tr>\n",
       "      <th>1</th>\n",
       "      <td>2</td>\n",
       "      <td>A Court of Wings and Ruin</td>\n",
       "      <td>4.51</td>\n",
       "      <td>Fantasy, Romance, Young Adult, New Adult</td>\n",
       "      <td>{court, context), logically, dynamic, on●, eve...</td>\n",
       "    </tr>\n",
       "    <tr>\n",
       "      <th>2</th>\n",
       "      <td>3</td>\n",
       "      <td>A Court of Wings and Ruin</td>\n",
       "      <td>4.51</td>\n",
       "      <td>Fantasy, Romance, Young Adult, New Adult</td>\n",
       "      <td>{court, endurance, wealthy, star, brush, what’...</td>\n",
       "    </tr>\n",
       "    <tr>\n",
       "      <th>3</th>\n",
       "      <td>4</td>\n",
       "      <td>A Court of Wings and Ruin</td>\n",
       "      <td>4.51</td>\n",
       "      <td>Fantasy, Romance, Young Adult, New Adult</td>\n",
       "      <td>{court, hand, before, strips, night, off, qual...</td>\n",
       "    </tr>\n",
       "    <tr>\n",
       "      <th>4</th>\n",
       "      <td>5</td>\n",
       "      <td>A Court of Wings and Ruin</td>\n",
       "      <td>4.51</td>\n",
       "      <td>Fantasy, Romance, Young Adult, New Adult</td>\n",
       "      <td>{court, before, thing--, plain, fuck, otherwis...</td>\n",
       "    </tr>\n",
       "  </tbody>\n",
       "</table>\n",
       "</div>"
      ],
      "text/plain": [
       "   ID                 book_title  book_rating  \\\n",
       "0   1  A Court of Wings and Ruin         4.51   \n",
       "1   2  A Court of Wings and Ruin         4.51   \n",
       "2   3  A Court of Wings and Ruin         4.51   \n",
       "3   4  A Court of Wings and Ruin         4.51   \n",
       "4   5  A Court of Wings and Ruin         4.51   \n",
       "\n",
       "                                      genre  \\\n",
       "0  Fantasy, Romance, Young Adult, New Adult   \n",
       "1  Fantasy, Romance, Young Adult, New Adult   \n",
       "2  Fantasy, Romance, Young Adult, New Adult   \n",
       "3  Fantasy, Romance, Young Adult, New Adult   \n",
       "4  Fantasy, Romance, Young Adult, New Adult   \n",
       "\n",
       "                                       review_vocabs  \n",
       "0  {force, star, source, listen, ”“one, efficient...  \n",
       "1  {court, context), logically, dynamic, on●, eve...  \n",
       "2  {court, endurance, wealthy, star, brush, what’...  \n",
       "3  {court, hand, before, strips, night, off, qual...  \n",
       "4  {court, before, thing--, plain, fuck, otherwis...  "
      ]
     },
     "execution_count": 15,
     "metadata": {},
     "output_type": "execute_result"
    }
   ],
   "source": [
    "vocab = []\n",
    "for i in dataset['tokenized']:\n",
    "    vocab.append(set(i))\n",
    "    \n",
    "dataset['review_vocabs'] = vocab\n",
    "dataset[[\"ID\", \"book_title\", \"book_rating\", \"genre\", \"review_vocabs\"]].head()"
   ]
  },
  {
   "cell_type": "markdown",
   "metadata": {},
   "source": [
    "## 4. Word Embedding with Word2Vec"
   ]
  },
  {
   "cell_type": "code",
   "execution_count": 16,
   "metadata": {},
   "outputs": [],
   "source": [
    "word2vec_sg = Word2Vec(sentences=dataset['review_vocabs'],\n",
    "                       size=100, window=5, min_count=1,\n",
    "                       workers=4, sg=1, iter=10)"
   ]
  },
  {
   "cell_type": "code",
   "execution_count": 17,
   "metadata": {},
   "outputs": [
    {
     "data": {
      "text/plain": [
       "0.26158452"
      ]
     },
     "execution_count": 17,
     "metadata": {},
     "output_type": "execute_result"
    }
   ],
   "source": [
    "word2vec_sg.wv.similarity(w1=\"great\",w2=\"good\")"
   ]
  },
  {
   "cell_type": "code",
   "execution_count": 18,
   "metadata": {},
   "outputs": [
    {
     "data": {
      "text/plain": [
       "[('yes', 0.8459823727607727),\n",
       " ('decent', 0.8431549072265625),\n",
       " ('anywhere', 0.8423471450805664),\n",
       " ('oh', 0.8396944403648376),\n",
       " ('inspiring', 0.8388922214508057),\n",
       " ('build', 0.8297942876815796)]"
      ]
     },
     "execution_count": 18,
     "metadata": {},
     "output_type": "execute_result"
    }
   ],
   "source": [
    "w1 = [\"great\"]\n",
    "word2vec_sg.wv.most_similar (positive=w1,topn=6)"
   ]
  },
  {
   "cell_type": "code",
   "execution_count": 19,
   "metadata": {},
   "outputs": [
    {
     "data": {
      "text/plain": [
       "[(\"time'\", 0.6922734975814819),\n",
       " ('natalii', 0.6789689064025879),\n",
       " ('interned', 0.6772027611732483),\n",
       " ('encapsulates', 0.6763665676116943),\n",
       " ('sweeti', 0.6738637685775757),\n",
       " (\")(less)'\", 0.6695945858955383),\n",
       " ('lighthouses', 0.6690704226493835),\n",
       " (\"'the\", 0.6678526401519775),\n",
       " (\"norma's\", 0.6636916399002075),\n",
       " ('caleb’s', 0.6629922389984131)]"
      ]
     },
     "execution_count": 19,
     "metadata": {},
     "output_type": "execute_result"
    }
   ],
   "source": [
    "w1 = [\"good\",'fun','great']\n",
    "w2 = ['bad']\n",
    "word2vec_sg.wv.most_similar (positive=w1,negative=w2,topn=10)"
   ]
  },
  {
   "cell_type": "code",
   "execution_count": 20,
   "metadata": {},
   "outputs": [
    {
     "data": {
      "text/plain": [
       "1.0"
      ]
     },
     "execution_count": 20,
     "metadata": {},
     "output_type": "execute_result"
    }
   ],
   "source": [
    "word2vec_sg.wv.similarity(w1=\"good\",w2=\"good\")"
   ]
  },
  {
   "cell_type": "code",
   "execution_count": 21,
   "metadata": {},
   "outputs": [],
   "source": [
    "word2vec_sg.save(\"word2vec_model\")\n",
    "w2v = Word2Vec.load(\"word2vec_model\")"
   ]
  },
  {
   "cell_type": "code",
   "execution_count": 22,
   "metadata": {},
   "outputs": [],
   "source": [
    "book_data = []\n",
    "for key,book in enumerate(dataset['review_vocabs']):\n",
    "    if len(book) == 0:\n",
    "        print(book, key)\n",
    "    feature_vector = np.zeros((100,), dtype=\"float32\")\n",
    "    nwords = len(book)\n",
    "    for token in book:\n",
    "        feature_vector = np.add(feature_vector, w2v[token])\n",
    "    \n",
    "    feature_vector = np.divide(feature_vector, nwords)\n",
    "    book_data.append({'book': dataset['book_title'][key],\n",
    "                      'tags':book, 'vector':feature_vector})"
   ]
  },
  {
   "cell_type": "code",
   "execution_count": 23,
   "metadata": {},
   "outputs": [
    {
     "data": {
      "text/html": [
       "<div>\n",
       "<style scoped>\n",
       "    .dataframe tbody tr th:only-of-type {\n",
       "        vertical-align: middle;\n",
       "    }\n",
       "\n",
       "    .dataframe tbody tr th {\n",
       "        vertical-align: top;\n",
       "    }\n",
       "\n",
       "    .dataframe thead th {\n",
       "        text-align: right;\n",
       "    }\n",
       "</style>\n",
       "<table border=\"1\" class=\"dataframe\">\n",
       "  <thead>\n",
       "    <tr style=\"text-align: right;\">\n",
       "      <th></th>\n",
       "      <th>book</th>\n",
       "      <th>tags</th>\n",
       "      <th>vector</th>\n",
       "    </tr>\n",
       "  </thead>\n",
       "  <tbody>\n",
       "    <tr>\n",
       "      <th>0</th>\n",
       "      <td>A Court of Wings and Ruin</td>\n",
       "      <td>{force, star, source, listen, ”“one, efficient...</td>\n",
       "      <td>[-0.3129043, -0.04992294, -0.29721895, 0.24150...</td>\n",
       "    </tr>\n",
       "    <tr>\n",
       "      <th>1</th>\n",
       "      <td>A Court of Wings and Ruin</td>\n",
       "      <td>{court, context), logically, dynamic, on●, eve...</td>\n",
       "      <td>[-0.29163805, -0.047497872, -0.30168232, 0.227...</td>\n",
       "    </tr>\n",
       "    <tr>\n",
       "      <th>2</th>\n",
       "      <td>A Court of Wings and Ruin</td>\n",
       "      <td>{court, endurance, wealthy, star, brush, what’...</td>\n",
       "      <td>[-0.33806124, -0.062057305, -0.3416864, 0.2585...</td>\n",
       "    </tr>\n",
       "    <tr>\n",
       "      <th>3</th>\n",
       "      <td>A Court of Wings and Ruin</td>\n",
       "      <td>{court, hand, before, strips, night, off, qual...</td>\n",
       "      <td>[-0.33659616, -0.037865996, -0.3016851, 0.2333...</td>\n",
       "    </tr>\n",
       "    <tr>\n",
       "      <th>4</th>\n",
       "      <td>A Court of Wings and Ruin</td>\n",
       "      <td>{court, before, thing--, plain, fuck, otherwis...</td>\n",
       "      <td>[-0.35109395, -0.04416216, -0.31398222, 0.2694...</td>\n",
       "    </tr>\n",
       "    <tr>\n",
       "      <th>5</th>\n",
       "      <td>A Court of Wings and Ruin</td>\n",
       "      <td>{court, before, massive, best, letting, to, em...</td>\n",
       "      <td>[-0.37919796, -0.11250182, -0.37484574, 0.2266...</td>\n",
       "    </tr>\n",
       "    <tr>\n",
       "      <th>6</th>\n",
       "      <td>A Court of Wings and Ruin</td>\n",
       "      <td>{court, settled, random, rhys, feyre's, hint, ...</td>\n",
       "      <td>[-0.31560454, -0.08798039, -0.35831508, 0.2632...</td>\n",
       "    </tr>\n",
       "    <tr>\n",
       "      <th>7</th>\n",
       "      <td>A Court of Wings and Ruin</td>\n",
       "      <td>{(and, anything, best, to, everything, fantasy...</td>\n",
       "      <td>[-0.43638182, -0.07293487, -0.2896034, 0.28812...</td>\n",
       "    </tr>\n",
       "    <tr>\n",
       "      <th>8</th>\n",
       "      <td>A Court of Wings and Ruin</td>\n",
       "      <td>{court, acceptable, nothing, about, wits, days...</td>\n",
       "      <td>[-0.40219346, -0.0978288, -0.4098248, 0.258657...</td>\n",
       "    </tr>\n",
       "    <tr>\n",
       "      <th>9</th>\n",
       "      <td>A Court of Wings and Ruin</td>\n",
       "      <td>{with, some, grand, thunderous, enthralling, y...</td>\n",
       "      <td>[-0.34966597, -0.08022528, -0.2611278, 0.20728...</td>\n",
       "    </tr>\n",
       "  </tbody>\n",
       "</table>\n",
       "</div>"
      ],
      "text/plain": [
       "                        book  \\\n",
       "0  A Court of Wings and Ruin   \n",
       "1  A Court of Wings and Ruin   \n",
       "2  A Court of Wings and Ruin   \n",
       "3  A Court of Wings and Ruin   \n",
       "4  A Court of Wings and Ruin   \n",
       "5  A Court of Wings and Ruin   \n",
       "6  A Court of Wings and Ruin   \n",
       "7  A Court of Wings and Ruin   \n",
       "8  A Court of Wings and Ruin   \n",
       "9  A Court of Wings and Ruin   \n",
       "\n",
       "                                                tags  \\\n",
       "0  {force, star, source, listen, ”“one, efficient...   \n",
       "1  {court, context), logically, dynamic, on●, eve...   \n",
       "2  {court, endurance, wealthy, star, brush, what’...   \n",
       "3  {court, hand, before, strips, night, off, qual...   \n",
       "4  {court, before, thing--, plain, fuck, otherwis...   \n",
       "5  {court, before, massive, best, letting, to, em...   \n",
       "6  {court, settled, random, rhys, feyre's, hint, ...   \n",
       "7  {(and, anything, best, to, everything, fantasy...   \n",
       "8  {court, acceptable, nothing, about, wits, days...   \n",
       "9  {with, some, grand, thunderous, enthralling, y...   \n",
       "\n",
       "                                              vector  \n",
       "0  [-0.3129043, -0.04992294, -0.29721895, 0.24150...  \n",
       "1  [-0.29163805, -0.047497872, -0.30168232, 0.227...  \n",
       "2  [-0.33806124, -0.062057305, -0.3416864, 0.2585...  \n",
       "3  [-0.33659616, -0.037865996, -0.3016851, 0.2333...  \n",
       "4  [-0.35109395, -0.04416216, -0.31398222, 0.2694...  \n",
       "5  [-0.37919796, -0.11250182, -0.37484574, 0.2266...  \n",
       "6  [-0.31560454, -0.08798039, -0.35831508, 0.2632...  \n",
       "7  [-0.43638182, -0.07293487, -0.2896034, 0.28812...  \n",
       "8  [-0.40219346, -0.0978288, -0.4098248, 0.258657...  \n",
       "9  [-0.34966597, -0.08022528, -0.2611278, 0.20728...  "
      ]
     },
     "execution_count": 23,
     "metadata": {},
     "output_type": "execute_result"
    }
   ],
   "source": [
    "book_vector_df = pd.DataFrame(book_data,columns=['book', \n",
    "                                                 'tags', \n",
    "                                                 'vector'])\n",
    "book_vector_df[:10]"
   ]
  },
  {
   "cell_type": "code",
   "execution_count": 24,
   "metadata": {},
   "outputs": [
    {
     "data": {
      "text/plain": [
       "(21559, 3)"
      ]
     },
     "execution_count": 24,
     "metadata": {},
     "output_type": "execute_result"
    }
   ],
   "source": [
    "book_vector_df.shape"
   ]
  },
  {
   "cell_type": "markdown",
   "metadata": {},
   "source": [
    "## 5. Book Recommendation"
   ]
  },
  {
   "cell_type": "code",
   "execution_count": 25,
   "metadata": {},
   "outputs": [],
   "source": [
    "words_in_vocab= set(word2vec_sg.wv.index2word)"
   ]
  },
  {
   "cell_type": "code",
   "execution_count": 26,
   "metadata": {},
   "outputs": [],
   "source": [
    "def get_cosine_similarity(row, search_vector):\n",
    "    try:\n",
    "        cosine_similarity = np.dot(row['vector'], search_vector)/linalg.norm(row['vector'])/linalg.norm(search_vector)\n",
    "        return cosine_similarity\n",
    "    except Exception as e:\n",
    "        raise e"
   ]
  },
  {
   "cell_type": "code",
   "execution_count": 35,
   "metadata": {},
   "outputs": [
    {
     "name": "stdout",
     "output_type": "stream",
     "text": [
      "Buku yang dicari: A Crown of Wishes\n"
     ]
    }
   ],
   "source": [
    "# Mencari buku dengan judul \"A Crown of Wishes\" terdapat pada dataset\n",
    "book = input('Buku yang dicari: ')"
   ]
  },
  {
   "cell_type": "code",
   "execution_count": 36,
   "metadata": {},
   "outputs": [],
   "source": [
    "index_similar_book = 21559\n",
    "for i, j in enumerate(dataset['book_title']):\n",
    "    if j == book:\n",
    "        index_similar_book = i\n",
    "\n",
    "if index_similar_book != 21559:\n",
    "    search_query = dataset['review_vocabs'][index_similar_book]\n",
    "else:\n",
    "    search_query = []"
   ]
  },
  {
   "cell_type": "code",
   "execution_count": 37,
   "metadata": {},
   "outputs": [],
   "source": [
    "search_vector = np.zeros((100,), dtype=\"float32\")\n",
    "for tag in search_query:\n",
    "    if tag in words_in_vocab:\n",
    "        search_vector = np.add(search_vector, w2v[tag])\n",
    "        \n",
    "book_vector_df['cosine_similarity'] = book_vector_df.apply(get_cosine_similarity,\n",
    "                                                           axis=1, args=(search_vector,))"
   ]
  },
  {
   "cell_type": "code",
   "execution_count": 38,
   "metadata": {},
   "outputs": [],
   "source": [
    "df = book_vector_df.sort_values(by='cosine_similarity', ascending=False)[:10]"
   ]
  },
  {
   "cell_type": "code",
   "execution_count": 39,
   "metadata": {},
   "outputs": [
    {
     "name": "stdout",
     "output_type": "stream",
     "text": [
      "Maka buku yang direkomendasikan berdasarkan buku A Crown of Wishes adalah :\n"
     ]
    },
    {
     "data": {
      "text/html": [
       "<div>\n",
       "<style scoped>\n",
       "    .dataframe tbody tr th:only-of-type {\n",
       "        vertical-align: middle;\n",
       "    }\n",
       "\n",
       "    .dataframe tbody tr th {\n",
       "        vertical-align: top;\n",
       "    }\n",
       "\n",
       "    .dataframe thead th {\n",
       "        text-align: right;\n",
       "    }\n",
       "</style>\n",
       "<table border=\"1\" class=\"dataframe\">\n",
       "  <thead>\n",
       "    <tr style=\"text-align: right;\">\n",
       "      <th></th>\n",
       "      <th>book</th>\n",
       "      <th>cosine_similarity</th>\n",
       "    </tr>\n",
       "  </thead>\n",
       "  <tbody>\n",
       "    <tr>\n",
       "      <th>5740</th>\n",
       "      <td>A Crown of Wishes</td>\n",
       "      <td>1.000000</td>\n",
       "    </tr>\n",
       "    <tr>\n",
       "      <th>12076</th>\n",
       "      <td>Assassin's Fate</td>\n",
       "      <td>0.997247</td>\n",
       "    </tr>\n",
       "    <tr>\n",
       "      <th>9829</th>\n",
       "      <td>The Long Drop</td>\n",
       "      <td>0.997023</td>\n",
       "    </tr>\n",
       "    <tr>\n",
       "      <th>15477</th>\n",
       "      <td>Beyond Reckless</td>\n",
       "      <td>0.996805</td>\n",
       "    </tr>\n",
       "    <tr>\n",
       "      <th>628</th>\n",
       "      <td>The Gentleman's Guide to Vice and Virtue</td>\n",
       "      <td>0.996685</td>\n",
       "    </tr>\n",
       "    <tr>\n",
       "      <th>3672</th>\n",
       "      <td>Love Me in the Dark</td>\n",
       "      <td>0.996672</td>\n",
       "    </tr>\n",
       "    <tr>\n",
       "      <th>17714</th>\n",
       "      <td>Want</td>\n",
       "      <td>0.996657</td>\n",
       "    </tr>\n",
       "    <tr>\n",
       "      <th>11552</th>\n",
       "      <td>The Wicked Cousin</td>\n",
       "      <td>0.996606</td>\n",
       "    </tr>\n",
       "    <tr>\n",
       "      <th>3978</th>\n",
       "      <td>The Boy on the Bridge</td>\n",
       "      <td>0.996582</td>\n",
       "    </tr>\n",
       "    <tr>\n",
       "      <th>6918</th>\n",
       "      <td>Trust</td>\n",
       "      <td>0.996567</td>\n",
       "    </tr>\n",
       "  </tbody>\n",
       "</table>\n",
       "</div>"
      ],
      "text/plain": [
       "                                           book  cosine_similarity\n",
       "5740                          A Crown of Wishes           1.000000\n",
       "12076                           Assassin's Fate           0.997247\n",
       "9829                              The Long Drop           0.997023\n",
       "15477                           Beyond Reckless           0.996805\n",
       "628    The Gentleman's Guide to Vice and Virtue           0.996685\n",
       "3672                        Love Me in the Dark           0.996672\n",
       "17714                                      Want           0.996657\n",
       "11552                         The Wicked Cousin           0.996606\n",
       "3978                      The Boy on the Bridge           0.996582\n",
       "6918                                      Trust           0.996567"
      ]
     },
     "metadata": {},
     "output_type": "display_data"
    }
   ],
   "source": [
    "if index_similar_book == 21559:\n",
    "    print(\"Buku {0} tidak ditemukan\".format(book))\n",
    "else:\n",
    "    print(\"Maka buku yang direkomendasikan berdasarkan buku {0} adalah :\".format(book))\n",
    "    display(df[['book', 'cosine_similarity']])"
   ]
  },
  {
   "cell_type": "code",
   "execution_count": null,
   "metadata": {},
   "outputs": [],
   "source": []
  }
 ],
 "metadata": {
  "kernelspec": {
   "display_name": "Python 3",
   "language": "python",
   "name": "python3"
  },
  "language_info": {
   "codemirror_mode": {
    "name": "ipython",
    "version": 3
   },
   "file_extension": ".py",
   "mimetype": "text/x-python",
   "name": "python",
   "nbconvert_exporter": "python",
   "pygments_lexer": "ipython3",
   "version": "3.6.5"
  }
 },
 "nbformat": 4,
 "nbformat_minor": 4
}
